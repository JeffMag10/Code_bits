{
 "cells": [
  {
   "cell_type": "code",
   "execution_count": 1,
   "id": "lesbian-precipitation",
   "metadata": {},
   "outputs": [],
   "source": [
    "from common_functions import time_log_start, time_log_finish, base_packages"
   ]
  },
  {
   "cell_type": "code",
   "execution_count": 2,
   "id": "dimensional-retail",
   "metadata": {},
   "outputs": [
    {
     "name": "stdout",
     "output_type": "stream",
     "text": [
      "Start date and time :\n",
      "2021-03-31 17:05:27\n",
      "Finish date and time :\n",
      "2021-03-31 17:05:33\n"
     ]
    }
   ],
   "source": [
    "time_log_start()\n",
    "import pandas as pd\n",
    "import numpy as np\n",
    "import os\n",
    "from pyspark.sql import SparkSession\n",
    "import seaborn as sb\n",
    "from sklearn import preprocessing\n",
    "import matplotlib.pyplot as plt\n",
    "import scipy\n",
    "import spacy\n",
    "from IPython.core.display import display, HTML\n",
    "import glob\n",
    "from pyspark.sql.functions import udf\n",
    "from pyspark.sql.types import StringType\n",
    "from pyspark.sql.window import Window \n",
    "from pyspark.sql.functions import monotonically_increasing_id, ntile\n",
    "   \n",
    "time_log_finish()"
   ]
  },
  {
   "cell_type": "code",
   "execution_count": 9,
   "id": "entitled-wells",
   "metadata": {},
   "outputs": [
    {
     "data": {
      "text/plain": [
       "'/mapr/datalake/optum/optuminsight/opsirsch1/dsar/Developer2/jmagouri/projects/Provider_Prior_update'"
      ]
     },
     "execution_count": 9,
     "metadata": {},
     "output_type": "execute_result"
    }
   ],
   "source": [
    "os.getcwd()"
   ]
  },
  {
   "cell_type": "code",
   "execution_count": 162,
   "id": "fixed-length",
   "metadata": {},
   "outputs": [
    {
     "name": "stdout",
     "output_type": "stream",
     "text": [
      "  State_Abbr   Latitude   Longitude\n",
      "0         AL  32.601011  -86.680736\n",
      "1         AK  61.302501 -158.775020\n",
      "2         AZ  34.168219 -111.930907\n",
      "3         AR  34.751928  -92.131378\n",
      "4         CA  37.271875 -119.270415\n",
      "[['AL', 32.6010112, -86.6807365], ['AK', 61.3025006, -158.7750198], ['AZ', 34.1682185, -111.930907], ['AR', 34.7519275, -92.1313784], ['CA', 37.2718745, -119.2704153]]\n"
     ]
    },
    {
     "data": {
      "text/plain": [
       "['UT', 'CO']"
      ]
     },
     "execution_count": 162,
     "metadata": {},
     "output_type": "execute_result"
    }
   ],
   "source": [
    "state_longlat = pd.read_csv('/mapr/datalake/optum/optuminsight/opsirsch1/dsar/Developer2/jmagouri/projects/Provider_Prior_update/data/StateLongLat.csv')\n",
    "state_longlat = state_longlat.iloc[:,0:3]\n",
    "def Convert(a):\n",
    "    it = iter(a)\n",
    "    res_dct = dict(zip(it, it))\n",
    "    return res_dct\n",
    "state_geocode_dict = state_longlat.to_dict()\n",
    "list_state_longlat = state_longlat.values.tolist()\n",
    "print(state_longlat.head())\n",
    "print(list_state_longlat[0:5])\n",
    "#print(Convert(list_state_longlat))\n",
    "state_1_list =['UT','CO']\n",
    "state_1_list\n"
   ]
  },
  {
   "cell_type": "code",
   "execution_count": 3,
   "id": "current-toyota",
   "metadata": {},
   "outputs": [
    {
     "name": "stdout",
     "output_type": "stream",
     "text": [
      "<class 'list'>\n",
      "========================\n",
      "[(38.8993487, -77.0145666), None, (38.9979339, -105.550567), (38.9979339, -105.550567), (27.9757279, -83.8330166), (38.0033855, -79.4587861)]\n"
     ]
    }
   ],
   "source": [
    "state_1_list =['DC','CD','CO','CO','FL','VA']\n",
    "def match_st_long_lat(list2):\n",
    "    state_geocode_dict = {'AL': (32.6010112,-86.6807365),\n",
    "                      'AK': (61.3025006,-158.7750198),\n",
    "                      'AZ': (34.1682185,-111.930907),\n",
    "                      'AR': (34.7519275,-92.1313,784),\n",
    "                      'CA': (37.2718745,-119.2704153),\n",
    "                      'CO': (38.9979339,-105.550567),\n",
    "                      'CT': (41.5187835,-72.757507),\n",
    "                      'DE': (39.145251,-75.4189206),\n",
    "                      'DC': (38.8993487,-77.0145666),\n",
    "                      'FL': (27.9757279,-83.8330166),\n",
    "                      'GA': (32.6781248,-83.2229757),\n",
    "                      'HI': (20.46,-157.505),\n",
    "                      'ID': (45.4945756,-114.1424303),\n",
    "                      'IL': (39.739318,-89.504139),\n",
    "                      'IN': (39.7662195,-86.441277),\n",
    "                      'IA': (41.9383166,-93.389798),\n",
    "                      'KS': (38.4987789,-98.3200779),\n",
    "                      'KY': (37.8222935,-85.7682399),\n",
    "                      'LA': (30.9733766,-91.4299097),\n",
    "                      'ME': (45.2185133,-69.0148656),\n",
    "                      'MD': (38.8063524,-77.2684162),\n",
    "                      'MA': (42.0629398,-71.718067),\n",
    "                      'MI': (44.9435598,-86.4158049),\n",
    "                      'MN': (46.4418595,-93.3655146),\n",
    "                      'MS': (32.5851062,-89.8772196),\n",
    "                      'MO': (38.3046615,-92.437099),\n",
    "                      'MT': (46.6797995,-110.044783),\n",
    "                      'NE': (41.5008195,-99.680902),\n",
    "                      'NV': (38.502032,-117.0230604),\n",
    "                      'NH': (44.0012306,-71.5799231),\n",
    "                      'NJ': (40.1430058,-74.7311156),\n",
    "                      'NM': (34.1662325,-106.0260685),\n",
    "                      'NY': (40.7056258,-73.97968),\n",
    "                      'NC': (35.2145629,-79.8912675),\n",
    "                      'ND': (47.4678819,-100.3022655),\n",
    "                      'OH': (40.1903624,-82.6692525),\n",
    "                      'OK': (35.3097654,-98.7165585),\n",
    "                      'OR': (44.1419049,-120.5380993),\n",
    "                      'PA': (40.9945928,-77.6046984),\n",
    "                      'RI': (41.5827282,-71.5064508),\n",
    "                      'SC': (33.62505,-80.9470381),\n",
    "                      'SD': (44.2126995,-100.2471641),\n",
    "                      'TN': (35.830521,-85.9785989),\n",
    "                      'TX': (31.1693363,-100.0768425),\n",
    "                      'UT': (39.4997605,-111.547028),\n",
    "                      'VT': (43.8717545,-72.4477828),\n",
    "                      'VA': (38.0033855,-79.4587861),\n",
    "                      'WA': (38.8993487,-77.0145665),\n",
    "                      'WV': (38.9201705,-80.1816905),\n",
    "                      'WI': (44.7862968,-89.8267049),\n",
    "                      'WY': (43.000325,-107.5545669)\n",
    "                         }\n",
    "    out1 = list(map(state_geocode_dict.get, list2))\n",
    "    return out1\n",
    "test = match_st_long_lat(state_1_list)\n",
    "print(type(test))\n",
    "print('========================')\n",
    "print(test)"
   ]
  }
 ],
 "metadata": {
  "kernelspec": {
   "display_name": "Python 3",
   "language": "python",
   "name": "python3"
  },
  "language_info": {
   "codemirror_mode": {
    "name": "ipython",
    "version": 3
   },
   "file_extension": ".py",
   "mimetype": "text/x-python",
   "name": "python",
   "nbconvert_exporter": "python",
   "pygments_lexer": "ipython3",
   "version": "3.7.10"
  }
 },
 "nbformat": 4,
 "nbformat_minor": 5
}
