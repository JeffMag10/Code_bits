{
 "cells": [
  {
   "cell_type": "markdown",
   "metadata": {},
   "source": [
    "<h4> Finding Fraud"
   ]
  },
  {
   "cell_type": "markdown",
   "metadata": {},
   "source": [
    "<h4> Look at these items - \n",
    "\n",
    "Email Count\n",
    "\n",
    "Title length\n",
    "\n",
    "English syntax\n",
    "\n",
    "Abandoned Apps"
   ]
  },
  {
   "cell_type": "code",
   "execution_count": 1,
   "metadata": {},
   "outputs": [
    {
     "name": "stdout",
     "output_type": "stream",
     "text": [
      "Start of date and time of this section of code\n",
      "2022-07-07 16:11:59\n",
      "+------------------+\n",
      "|      databaseName|\n",
      "+------------------+\n",
      "|               bdr|\n",
      "|              csam|\n",
      "|           default|\n",
      "|               drp|\n",
      "|                ds|\n",
      "|information_schema|\n",
      "|       patent_data|\n",
      "|              ptab|\n",
      "|               sys|\n",
      "|              tept|\n",
      "|                tm|\n",
      "|               tqr|\n",
      "|       tqr_archive|\n",
      "|               trm|\n",
      "|    trm_databridge|\n",
      "|      trm_eogadmin|\n",
      "|    trm_proceeding|\n",
      "|     trm_tmngfpepp|\n",
      "|      trm_tmngidmp|\n",
      "+------------------+\n",
      "\n",
      "Finish of date and time of this section of code\n",
      "2022-07-07 16:12:22\n"
     ]
    }
   ],
   "source": [
    "import findspark\n",
    "findspark.init('/opt/cloudera/parcels/CDH/lib/spark')\n",
    "import sys\n",
    "from pyspark.sql import SparkSession\n",
    "from pyspark import SparkContext, SparkConf\n",
    "from pyspark.sql.functions import desc,col\n",
    "import pyspark.sql.functions as f\n",
    "from common_functions import time_log_start, time_log_finish\n",
    "time_log_start()\n",
    "job_name = 'Hive_Test'\n",
    "conf = (\n",
    "    SparkConf()\n",
    "        .setAppName(job_name)\n",
    "\t\t.set(\"hive.metastore.uris\",\"thrift://bdr3-itep-1.uspto.gov:9083\")\n",
    "\t\t.set(\"spark.sql.extensions\",\"com.qubole.spark.hiveacid.HiveAcidAutoConvertExtension\")\n",
    "\t\t.set(\"spark.datasource.hive.warehouse.read.via.llap\",\"false\")\n",
    "\t\t.set(\"spark.sql.hive.llap\",\"true\")\n",
    "\t\t.set(\"spark.sql.hive.hwc.execution.mode\",\"spark\")\n",
    "\t\t.set(\"spark.kryo.registrator\",\"com.qubole.spark.hiveacid.util.HiveAcidKyroRegistrator\")\n",
    "\t\t.set(\"ssl\",\"True\")\n",
    "\t\t.set(\"spark.datasource.hive.warehouse.read.jdbc.mode\",\"cluster\")\n",
    "\t\t.set(\"spark.security.credentials.hiveserver2.enabled\",\"false\")\n",
    "\t\t.set(\"pyFiles\",\"/opt/cloudera/parcels/CDH/lib/hive_warehouse_connector/pyspark_hwc-1.0.0.7.1.5.0-257.zip\")\n",
    "\t\t.set(\"spark.jars\",\"/opt/cloudera/parcels/CDH/lib/hive_warehouse_connector/hive-warehouse-connector-assembly-1.0.0.7.1.5.0-257.jar\")  \n",
    "        .set('spark.hadoop.hive.metastore.sasl.enabled','true')\n",
    "    )\n",
    "spark = (SparkSession.builder.config(conf=conf).enableHiveSupport().getOrCreate())\n",
    "all_databases_df = spark.sql(\"show databases\")\n",
    "all_databases_df.show()\n",
    "time_log_finish()"
   ]
  },
  {
   "cell_type": "markdown",
   "metadata": {},
   "source": [
    "<h4> Listing the Patent Fraud tables"
   ]
  },
  {
   "cell_type": "code",
   "execution_count": 2,
   "metadata": {},
   "outputs": [
    {
     "name": "stdout",
     "output_type": "stream",
     "text": [
      "+-----------+-------------------------------+-----------+\n",
      "|database   |tableName                      |isTemporary|\n",
      "+-----------+-------------------------------+-----------+\n",
      "|patent_data|application_general_information|false      |\n",
      "|patent_data|opsg_email_address             |false      |\n",
      "|patent_data|opsg_physical_address          |false      |\n",
      "|patent_data|opsg_telecommunication_details |false      |\n",
      "|patent_data|palm_applications              |false      |\n",
      "|patent_data|publicapplicationstatus        |false      |\n",
      "|patent_data|suhee_applications             |false      |\n",
      "+-----------+-------------------------------+-----------+\n",
      "\n"
     ]
    }
   ],
   "source": [
    "spark.sql(\"show tables in patent_data\").show(n=75,truncate=False)"
   ]
  },
  {
   "cell_type": "markdown",
   "metadata": {},
   "source": [
    "<h4> Pulling in the Patent data - Application General Information"
   ]
  },
  {
   "cell_type": "code",
   "execution_count": 3,
   "metadata": {
    "scrolled": true
   },
   "outputs": [
    {
     "name": "stdout",
     "output_type": "stream",
     "text": [
      "Start of date and time of this section of code\n",
      "2022-07-07 16:12:23\n",
      "1,176,873\n",
      "root\n",
      " |-- applicationnumbertext: string (nullable = true)\n",
      " |-- abandoneddate: long (nullable = true)\n",
      " |-- applicationconfirmationnumber: string (nullable = true)\n",
      " |-- applicationfilecategory: string (nullable = true)\n",
      " |-- applicationfilereference: string (nullable = true)\n",
      " |-- applicationstatusdate: long (nullable = true)\n",
      " |-- applicationstatusdescriptiontext: string (nullable = true)\n",
      " |-- applicationtypecategory: string (nullable = true)\n",
      " |-- applicationwithdrawndate: long (nullable = true)\n",
      " |-- currentapplclass: string (nullable = true)\n",
      " |-- customernumbertext: string (nullable = true)\n",
      " |-- disposalindicator: string (nullable = true)\n",
      " |-- effectivefilingdate: long (nullable = true)\n",
      " |-- filingdate: long (nullable = true)\n",
      " |-- firstactiononmeritindicator: string (nullable = true)\n",
      " |-- firstinventortofileindicator: string (nullable = true)\n",
      " |-- grantdate: long (nullable = true)\n",
      " |-- groupartunitnumber: string (nullable = true)\n",
      " |-- inventionsubjectmattercategory: string (nullable = true)\n",
      " |-- inventiontitle: string (nullable = true)\n",
      " |-- ispublic: boolean (nullable = true)\n",
      " |-- nationalstageindicator: string (nullable = true)\n",
      " |-- partyidentifier: string (nullable = true)\n",
      " |-- patentnumber: string (nullable = true)\n",
      " |-- physicalobjectstatuscode: string (nullable = true)\n",
      " |-- secrecycode: string (nullable = true)\n",
      " |-- specialexaminationindicator: string (nullable = true)\n",
      " |-- statusnumber: string (nullable = true)\n",
      " |-- subclass: string (nullable = true)\n",
      " |-- unmatchedpetitionindicator: string (nullable = true)\n",
      " |-- lastmodifieduser: string (nullable = true)\n",
      " |-- lastmodifiedtime: long (nullable = true)\n",
      "\n",
      "Finish of date and time of this section of code\n",
      "2022-07-07 16:12:43\n"
     ]
    }
   ],
   "source": [
    "time_log_start()\n",
    "df_0 = spark.sql(\"Select * from patent_data.application_general_information\")\n",
    "print(f'{df_0.count():,}')\n",
    "df_0.printSchema()\n",
    "time_log_finish()"
   ]
  },
  {
   "cell_type": "code",
   "execution_count": 4,
   "metadata": {},
   "outputs": [
    {
     "name": "stdout",
     "output_type": "stream",
     "text": [
      "+---------------------+-------------------+------------------------------------------------------------------------+-----------------------------------------------------+\n",
      "|applicationnumbertext|effectivefilingdate|inventiontitle                                                          |applicationstatusdescriptiontext                     |\n",
      "+---------------------+-------------------+------------------------------------------------------------------------+-----------------------------------------------------+\n",
      "|29000002             |718257600          |LT LAPMATE COMPUTER STAND                                               |Abandoned  --  Failure to Respond to an Office Action|\n",
      "|29000005             |717998400          |BAY WINDOW                                                              |Abandoned  --  Failure to Respond to an Office Action|\n",
      "|29000010             |717998400          |END MEMBER FOR A TUBE                                                   |Patented Case                                        |\n",
      "|29000011             |717998400          |TUBE AND RING HOLDER                                                    |Abandoned  --  Failure to Respond to an Office Action|\n",
      "|29000015             |718257600          |EXERCISE BICYCLE                                                        |Patented Case                                        |\n",
      "|29000025             |726728400          |WONDER DISC.                                                            |Abandoned  --  Failure to Respond to an Office Action|\n",
      "|29000034             |718257600          |ORNAMENTAL DESIGN FOR A PORTABLE AND ILLUMINATED RESTAURANT SERVICE SIGN|Abandoned  --  Failure to Respond to an Office Action|\n",
      "|29000039             |718257600          |TOOTHBRUSH                                                              |Patented Case                                        |\n",
      "|29000053             |717912000          |DISPLAY PAGER                                                           |Patented Case                                        |\n",
      "|29000057             |717998400          |TRANSLUCENT FLUTED LENS FOR RECESSED LIGHTING TRIM                      |Patented Case                                        |\n",
      "|29000061             |718257600          |GAS PUMP HANDLE RETAINING BLOCK                                         |Abandoned  --  Failure to Respond to an Office Action|\n",
      "|29000068             |717912000          |AUTOMOBILE FENDER SKIRT                                                 |Patented Case                                        |\n",
      "|29000071             |717912000          |DIAMOND                                                                 |Patented Case                                        |\n",
      "|29000108             |717912000          |DRAINAGE TUBE FOR A WATERBED                                            |Patented Case                                        |\n",
      "|29000113             |717998400          |BRIDGING TRUSS                                                          |Abandoned  --  Failure to Respond to an Office Action|\n",
      "|29000144             |718344000          |CLIPBOARD                                                               |Patented Case                                        |\n",
      "|29000154             |718430400          |COMBINED PORTABLE ASH TRAY AND FRAGRANCE DISPENSER                      |Abandoned  --  Failure to Respond to an Office Action|\n",
      "|29000159             |718430400          |BOTTLE                                                                  |Patented Case                                        |\n",
      "|29000182             |718516800          |CONTAINER WITH BRUSH-HOLDING LID                                        |Patented Case                                        |\n",
      "|29000203             |718430400          |TABLE TENNIS PADDLE                                                     |Patented Case                                        |\n",
      "|29000209             |718516800          |RIM COVER FOR VEHICLES                                                  |Abandoned  --  Failure to Respond to an Office Action|\n",
      "|29000226             |718344000          |WELDING LENS ASSEMBLY                                                   |Patented Case                                        |\n",
      "|29000228             |718430400          |ANTENNA PEDESTAL                                                        |Patented Case                                        |\n",
      "|29000231             |718516800          |DISC FOR TOSSING GAMES                                                  |Patented Case                                        |\n",
      "|29000244             |718603200          |SET OF ARTICLES FOR A SHOWER SCREEN ASSEMBLY                            |Abandoned  --  Failure to Respond to an Office Action|\n",
      "|29000256             |718603200          |AUTO GLASS RACK                                                         |Patented Case                                        |\n",
      "|29000263             |718603200          |STRAIGHT EDGE COIL CUTTER                                               |Patented Case                                        |\n",
      "|29000270             |718948800          |BRA FOR SCOOTER                                                         |Abandoned  --  Failure to Respond to an Office Action|\n",
      "|29000290             |718948800          |DISPOSABLE RAZOR                                                        |Patented Case                                        |\n",
      "|29000295             |718948800          |GOLF TEE EARRING                                                        |Patented Case                                        |\n",
      "+---------------------+-------------------+------------------------------------------------------------------------+-----------------------------------------------------+\n",
      "only showing top 30 rows\n",
      "\n"
     ]
    }
   ],
   "source": [
    "#Selecting only a few fields of data\n",
    "\n",
    "df_1 = df_0.select('applicationnumbertext','effectivefilingdate','inventiontitle','applicationstatusdescriptiontext').filter(col(\"inventiontitle\").isNotNull())\n",
    "df_1.show(n=30,truncate=False)"
   ]
  },
  {
   "cell_type": "code",
   "execution_count": 5,
   "metadata": {},
   "outputs": [
    {
     "name": "stdout",
     "output_type": "stream",
     "text": [
      "+----------------------------------------------------------------------------+------+\n",
      "|applicationstatusdescriptiontext                                            |count |\n",
      "+----------------------------------------------------------------------------+------+\n",
      "|Patented Case                                                               |597168|\n",
      "|Provisional Application Expired                                             |180706|\n",
      "|Application Dispatched from Preexam, Not Yet Docketed                       |144726|\n",
      "|Abandoned  --  Failure to Respond to an Office Action                       |79314 |\n",
      "|Docketed New Case - Ready for Examination                                   |66893 |\n",
      "|Abandoned  --  Incomplete Application (Pre-examination)                     |38844 |\n",
      "|Abandoned  --  Failure to Pay Issue Fee                                     |29723 |\n",
      "|Application Undergoing Preexam Processing                                   |9728  |\n",
      "|Non Final Action Mailed                                                     |6864  |\n",
      "|Notice of Allowance Mailed -- Application Received in Office of Publications|5414  |\n",
      "|Expressly Abandoned  --  During Examination                                 |2671  |\n",
      "|Publications -- Issue Fee Payment Verified                                  |2046  |\n",
      "|Response to Non-Final Office Action Entered and Forwarded to Examiner       |1522  |\n",
      "+----------------------------------------------------------------------------+------+\n",
      "only showing top 13 rows\n",
      "\n"
     ]
    }
   ],
   "source": [
    "## Finding the counts of application status\n",
    "df_1.groupby(\"applicationstatusdescriptiontext\").count().sort(desc(\"count\")).show(n=13,truncate=False)"
   ]
  },
  {
   "cell_type": "markdown",
   "metadata": {},
   "source": [
    "<h3> Subsetting the dataset by \"applicationstatusdescriptiontext\" field"
   ]
  },
  {
   "cell_type": "code",
   "execution_count": 6,
   "metadata": {},
   "outputs": [
    {
     "name": "stdout",
     "output_type": "stream",
     "text": [
      "Number of Abandoned records =  153,856\n"
     ]
    }
   ],
   "source": [
    "df_titles = df_1.filter(col(\"applicationstatusdescriptiontext\").contains(\"Abandoned\"))\n",
    "print('Number of Abandoned records = ',f'{df_titles.count():,}')"
   ]
  },
  {
   "cell_type": "markdown",
   "metadata": {},
   "source": [
    "<h3> Finding the length of the invention title"
   ]
  },
  {
   "cell_type": "markdown",
   "metadata": {},
   "source": [
    "<h4>And the language of the invention title"
   ]
  },
  {
   "cell_type": "code",
   "execution_count": 7,
   "metadata": {},
   "outputs": [],
   "source": [
    "#from pynlp.pretrained import PretrainedPipeline\n",
    "#language_detector_pipeline = PretrainedPipeline('detect_language_21', lang='xx')\n"
   ]
  },
  {
   "cell_type": "code",
   "execution_count": 8,
   "metadata": {},
   "outputs": [
    {
     "name": "stdout",
     "output_type": "stream",
     "text": [
      "+---------------------+------------+-----+\n",
      "|applicationnumbertext|title_length|count|\n",
      "+---------------------+------------+-----+\n",
      "|             63207312|         600|    1|\n",
      "|             63258405|         600|    1|\n",
      "|             63222990|         600|    1|\n",
      "|             63191359|         600|    1|\n",
      "|             63033172|         600|    1|\n",
      "|             29175989|         600|    1|\n",
      "|             29175988|         599|    1|\n",
      "|             63205724|         598|    1|\n",
      "|             63201885|         577|    1|\n",
      "|             63259054|         549|    1|\n",
      "|             63164110|         506|    1|\n",
      "|             63103044|         506|    1|\n",
      "|             63120744|         500|    1|\n",
      "|             63120749|         500|    1|\n",
      "|             29779251|         500|    1|\n",
      "|             63237837|         500|    1|\n",
      "|             63120743|         500|    1|\n",
      "|             63083049|         500|    1|\n",
      "|             63091811|         500|    1|\n",
      "|             63135651|         500|    1|\n",
      "|             63008686|         500|    1|\n",
      "|             63135628|         500|    1|\n",
      "|             29764573|         500|    1|\n",
      "|             29782885|         500|    1|\n",
      "|             63083048|         500|    1|\n",
      "+---------------------+------------+-----+\n",
      "only showing top 25 rows\n",
      "\n"
     ]
    }
   ],
   "source": [
    "#import pyspark.sql.functions as f\n",
    "df_titles=df_titles.withColumn('title_length',f.length('inventiontitle'))\n",
    "df_titles_length=df_titles.groupby(\"applicationnumbertext\",'title_length').count().sort(desc(\"count\"))\n",
    "df_titles_length.sort(desc('title_length')).show(n=25)"
   ]
  },
  {
   "cell_type": "markdown",
   "metadata": {},
   "source": [
    "<h3> Adding back in the invention titles and count of characters of the titles"
   ]
  },
  {
   "cell_type": "code",
   "execution_count": 9,
   "metadata": {},
   "outputs": [
    {
     "name": "stdout",
     "output_type": "stream",
     "text": [
      "+---------------------+------------+---------------------+------------------------------------------------------------------------------------------------------------------------------------------------------------------------------------------------------------------------------------------------------------------------------------------------------------------------------------------------------------------------------------------------------------------------------------------------------------------------------------------------------------------------------------------------------------------------------------------------------------------------+\n",
      "|applicationnumbertext|title_length|character_count_title|inventiontitle                                                                                                                                                                                                                                                                                                                                                                                                                                                                                                                                                                                                          |\n",
      "+---------------------+------------+---------------------+------------------------------------------------------------------------------------------------------------------------------------------------------------------------------------------------------------------------------------------------------------------------------------------------------------------------------------------------------------------------------------------------------------------------------------------------------------------------------------------------------------------------------------------------------------------------------------------------------------------------+\n",
      "|29175989             |600         |1                    |Gyroscopic stabilized multiple transition-roll-over micro bubble super cavitator hull with 180 degree rotatable bow/stern attitude positioning foil/fin/rudder/planes deep vee/mono/catamaran double wall hydraulic suspended shock proof atmospheric pressurized free floating pilot/passenger/crew/cargo cab bus forward glass windshield aerodynamic marine bow central flow controlled environmental pressure sealed electro-magnetic air/vent/hatch/door/viewport/gas/liquid flow engine breather valve air vent/jet engine intake portal twenty-one sealed 66 degree variable horizon/sky sweep angle laser search|\n",
      "|63207312             |600         |1                    |Present inventation, a utility trailer used for the transportation of electric vehicles and tools or equipment is outfitted with an integrated solar array with deployable auxiliary panels and storage battery with specific bi-directional electrical charge ports dedicated to the electrical charging needs of the stored/transported devices. Further the utility charging trailer is outfitted with an integrated charge controller and equipment and electronic controller device that connects to the stored vehicles/devices that converts the individual devices needs to a centralized charger/controller, Th|\n",
      "|63222990             |600         |1                    |Phoraptor is a user-friendly device that allows non-medical professionals to quickly and accurately report eye prescriptions without extensive training. Our phoropter is wearable and portable and will enable one to quickly conduct an eye exam using the instructions prompted via our smartphone application, ultimately displaying the eye exam results in a comfortable, affordable, and convenient fashion. Furthermore, we intend to use our revenue to provide glasses with the appropriate prescriptions to the users of our product. Phoraptor would grant individuals, especially those in low income areas|\n",
      "|63033172             |600         |1                    |Fast Fix Hair Clips s a clip on hair piece I designed for alternative to using heat(blow dryer, flat iron) on natural hair to achieve style. First step is part natural hair from ear to ear, braided back of hair in 2 or more cornrows. Measure back of head with elastic band.On a wig head placed the measure band sewing ends together.Than I sew a weave net around band. Starting at the bottom of weaving net ,I start sewing hair attaching it to the net with weaving weaving needle .I continue this method for five or six rows,going up until hair covers 85 percent of net, Than I start to crochet 6 or 7|\n",
      "|63191359             |600         |1                    |Blockchain Privacy. Due diligence tool which investigates, audits, analyses and quantifies the privacy risk in technologies deploying blockchain and distributed ledger technology. The invention incorporates global privacy laws, as well as laws which have a bearing on privacy rights such as human rights, employment laws, etc.   The invention assumes that users do not know anything about privacy law.  At each step of the invention, users are asked a series of complex questions to determine the correct answer.  Users don’t need to know anything about any privacy law: the invention does all the wo|\n",
      "|63258405             |600         |1                    |Apparatus for conditioning throwing arm - Application herein is for a new use of existing patent #8,876,620 invented by aforesaid mentioned applicant Erik Ahlberg. Inserting a users fingers through a hole disposed near a first end of an elongated deformabfy resilient sheet; orienting the sheet so that a major portion of the sheet hangs off the top side of the user's hand. Multiple resilient sheets may be used to acheive desired weight effect User moves hand and arm in a throwing movement while resilient sheets) are anchored to the fingers) while simultaneously sheets) flow freely through air w|\n",
      "|29175988             |599         |1                    |Gyroscopic stabilized transformer deep vee/catamaran/hydroplane micro bubble super cavitator hull with 180 degree rotatable bow/stern attitude positioning foil/fin/planes tandem aerodynamic stern steering rudders hydraulic suspended shock proof atmospheric pressurized free floating pilot/passenger/crew/cargo cab bus pressure sealed electro-magnetic air vent/hatch/door/viewport/gas/liquid flow engine breather valve counter rotational extended propeller shaft automatic engine throttle outdrive \n",
      "DC electric color programmable L.E.D./micro T.V./monitor screen illuminated cloaking image/camouflage |\n",
      "|63205724             |598         |1                    |H20-MY, a heated bubbler that is used for deep cleaning & moisturisering face, simular to foot baths, except this has an extendable air hose to allow you to stay underwater for long periods of time. It can use regular water, or we reccomend using our the H20-MY Moisturises and cleans your face at a level not seen before. You use a filtered water with Potassium Chloride solution which we provide. Between that and the bubbilers that move the water and infuse the air. Being able to soak in a Purer water for 15 min or longer twice a day. With the included Air hose, which allows you to stay under  |\n",
      "|63201885             |577         |1                    |Healthcare Information System Services platform (websites, apps, e.t.c) that make known the best healthcare products, services, and talents to customers, in order to make an informed decision. The goal is to reveal the excellence of a healthcare product, services, and talent to the public in order for individuals and organizations to be able to make an informed decision. Individuals and organizations are advised to showcase their products, services, and talents with honor to the public. Currently this invention is operating under a company name: Healthcare Cum Laude, LLC                       |\n",
      "|63259054             |549         |1                    |Presenity UV Solar Panels generale at their peak 27.000 BTU/Hr. They tradionnally use gylool water mixture for thermal heat transfer. Our invention doesn't utilize glycol water but a synthetic organic heat transfer fluid (HTF) consisting of 73.55% biphenylin addition and this is the inventiion, we add several nano-partices that are proven to increase heat transfer and heat holding capibilities. PV solar panels give off heat and we will be addomg a heat collector undemeath the PV solar panel to transfer the heat to hot water production as well.                                                   |\n",
      "|63164110             |506         |1                    |Portable, modular and adjustable platform with suspended floor. Consisting of various interchangeable frame pieces. Integrated and adjustable legs, connectors require no tools to construct. A unique suspended floor system increases rigidity and strength while increasing comfort in various environmental conditions. Survival, extreme conditions. Unique attachment points for adaptability. Portability, carried in a large bag. Adaptability in any climate, custom configured region or environmental situation                                                                                              |\n",
      "|63103044             |506         |1                    |I improve the effectiveness of body armor by increasing the thickness of the body armor in specific areas to protect vital organs like the heart and liver. This heat-treated, tempered steel (Armor Plate Level III NIJ protection) body armor provides the ultimate protection for vital organs. Increasing armor thickness of only specific areas protecting vital organs drastically reduces the overall weight of the entire body armor plate which improves effectiveness and freedom of movement while in the armor                                                                                              |\n",
      "|63140835             |500         |1                    |VivinanamamamasohteiqueZarnanamamamasohteiquejonVivinanamamamasohteiqueZarnanamamamasohteiquejonVivinanamamamasohteiqueZarnanamamamasohteiquejonVivinanamamamasohteiqueZarnanamamamasohteiquejonnanamamamasohteiqueVivinanamamamasohteiqueZarnanamamamasohteiquejonnanamamamasohteiquejonzaiRKenyaWilliamFujibayashiBecomeZeviusJoPerfectlyEverything100%BecomeZegaviusJoPerfectlyEverything100%BecomeZemaviusJoPerfectlyEverything100%BecomeLaiGoshohJoZeiGoshohJoKaiGoshohJoMonGoshohJoPerfectlyEverything100%Each                                                                                                    |\n",
      "+---------------------+------------+---------------------+------------------------------------------------------------------------------------------------------------------------------------------------------------------------------------------------------------------------------------------------------------------------------------------------------------------------------------------------------------------------------------------------------------------------------------------------------------------------------------------------------------------------------------------------------------------------------------------------------------------------+\n",
      "only showing top 13 rows\n",
      "\n"
     ]
    }
   ],
   "source": [
    "df_titles_2 = df_titles_length.join(df_titles.select(\"applicationnumbertext\",\"inventiontitle\"), on='applicationnumbertext',how='left')\n",
    "df_titles_2 = df_titles_2.withColumnRenamed(\"count\",\"character_count_title\")\n",
    "df_titles_2.sort(desc(\"title_length\")).show(n=13, truncate=False)"
   ]
  },
  {
   "cell_type": "markdown",
   "metadata": {},
   "source": [
    "<h3> Getting Emails "
   ]
  },
  {
   "cell_type": "code",
   "execution_count": 10,
   "metadata": {},
   "outputs": [
    {
     "name": "stdout",
     "output_type": "stream",
     "text": [
      "2,100,664\n",
      "root\n",
      " |-- applicationnumbertext: string (nullable = true)\n",
      " |-- emailaddresstext: string (nullable = true)\n",
      " |-- deleteexistingemail: boolean (nullable = true)\n",
      "\n",
      "None\n",
      "+-----------------------------+---------------------+-----+\n",
      "|emailaddresstext             |applicationnumbertext|count|\n",
      "+-----------------------------+---------------------+-----+\n",
      "|scott@bigskycomposites.com   |29445770             |5    |\n",
      "|info@24ipusa.com             |29249735             |4    |\n",
      "|info@24ipusa.com             |29584784             |4    |\n",
      "|info@24ipusa.com             |29629185             |4    |\n",
      "|info@24ipusa.com             |29345025             |4    |\n",
      "|info@24ipusa.com             |29265222             |4    |\n",
      "|jonathan.perry@acmeglobes.com|29666727             |4    |\n",
      "|info@24ipusa.com             |29399664             |4    |\n",
      "|info@24ipusa.com             |29552832             |4    |\n",
      "+-----------------------------+---------------------+-----+\n",
      "only showing top 9 rows\n",
      "\n"
     ]
    }
   ],
   "source": [
    "from pyspark.sql.functions import desc, col\n",
    "df_1a = spark.sql(\"Select * from patent_data.opsg_email_address\")\n",
    "df_1b = df_1a.filter(col(\"emailaddresstext\").isNotNull())\n",
    "print(f'{df_1b.count():,}')\n",
    "print(df_1b.printSchema())\n",
    "df_email_groupby=df_1b.groupby(\"emailaddresstext\",\"applicationnumbertext\").count().sort(desc(\"count\"))\n",
    "df_email_groupby.show(n=9,truncate=False)"
   ]
  },
  {
   "cell_type": "markdown",
   "metadata": {},
   "source": [
    "<h4>Emails counts - starting a \"good\" list of email extensions, a one of the filters in our decision tree"
   ]
  },
  {
   "cell_type": "code",
   "execution_count": 11,
   "metadata": {
    "scrolled": true
   },
   "outputs": [
    {
     "name": "stdout",
     "output_type": "stream",
     "text": [
      "+-----------------------------------------+-----+\n",
      "|emailaddresstext                         |count|\n",
      "+-----------------------------------------+-----+\n",
      "|eofficeaction@appcoll.com                |46704|\n",
      "|USPTO@dockettrak.com                     |24302|\n",
      "|e-office@sternekessler.com               |11852|\n",
      "|mailroom@bskb.com                        |10355|\n",
      "|ipdocketing@foley.com                    |10259|\n",
      "|nike_docketing@cardinal-ip.com           |10209|\n",
      "|efiling@knobbe.com                       |9799 |\n",
      "|jayna.cartee@knobbe.com                  |9738 |\n",
      "|PTO-125760@bannerwitcoff.com             |8937 |\n",
      "|pair@jumpy-ip.com                        |8741 |\n",
      "|uspto@dockettrak.com                     |8710 |\n",
      "|usptopatentmail@cantorcolburn.com        |8484 |\n",
      "|PPROCESSING@SUGHRUE.COM                  |8230 |\n",
      "|USPTO@sughrue.com                        |8208 |\n",
      "|KTSDocketing2@kilpatrick.foundationip.com|8170 |\n",
      "|ipefiling@kilpatricktownsend.com         |8150 |\n",
      "|pair_nixon@firsttofile.com               |7593 |\n",
      "|eofficeaction@bannerwitcoff.com          |6853 |\n",
      "|sughrue@sughrue.com                      |6736 |\n",
      "|PTO-28319@bannerwitcoff.com              |6482 |\n",
      "|mayer.jk@pg.com                          |6452 |\n",
      "|centraldocket.im@pg.com                  |6452 |\n",
      "|pair_pg@firsttofile.com                  |6425 |\n",
      "|INFO@WANDKIP.COM                         |6389 |\n",
      "|PATDOCTC@fr.com                          |6294 |\n",
      "|eoa-proce@scienbizip.com                 |6152 |\n",
      "|eoa-procc@scienbizippc.com               |6152 |\n",
      "|eoa-cbd@scienbizip.com                   |6152 |\n",
      "|pair@sinorica.com                        |6010 |\n",
      "|SINORICA@GMAIL.COM                       |6010 |\n",
      "|sinorica@outlook.com                     |6010 |\n",
      "|pto@nsiplaw.com                          |5822 |\n",
      "|pto.nsip@gmail.com                       |5822 |\n",
      "+-----------------------------------------+-----+\n",
      "only showing top 33 rows\n",
      "\n"
     ]
    }
   ],
   "source": [
    "df_email_only_groupby=df_1b.groupby(\"emailaddresstext\").count().sort(desc(\"count\"))\n",
    "df_email_only_groupby.show(n=33,truncate=False)"
   ]
  },
  {
   "cell_type": "markdown",
   "metadata": {},
   "source": [
    "<h4> Matching the \"Abandoned\" application status with the email addresses"
   ]
  },
  {
   "cell_type": "code",
   "execution_count": 12,
   "metadata": {},
   "outputs": [
    {
     "name": "stdout",
     "output_type": "stream",
     "text": [
      "Number of records =  170,798\n",
      "root\n",
      " |-- applicationnumbertext: string (nullable = true)\n",
      " |-- effectivefilingdate: long (nullable = true)\n",
      " |-- inventiontitle: string (nullable = true)\n",
      " |-- applicationstatusdescriptiontext: string (nullable = true)\n",
      " |-- title_length: integer (nullable = true)\n",
      " |-- emailaddresstext: string (nullable = true)\n",
      " |-- deleteexistingemail: boolean (nullable = true)\n",
      "\n"
     ]
    }
   ],
   "source": [
    "df_matched_emails = df_titles.join(df_1b, on='applicationnumbertext', how='inner')\n",
    "print('Number of records = ', f'{df_matched_emails.count():,}')\n",
    "df_matched_emails.printSchema()"
   ]
  },
  {
   "cell_type": "markdown",
   "metadata": {},
   "source": [
    "<h3> Counting the Email addresses"
   ]
  },
  {
   "cell_type": "code",
   "execution_count": 13,
   "metadata": {},
   "outputs": [
    {
     "name": "stdout",
     "output_type": "stream",
     "text": [
      "+----------------------------+---------------+----------------+\n",
      "|emailaddresstext            |Count_of_emails|max_title_length|\n",
      "+----------------------------+---------------+----------------+\n",
      "|realsuheepark@gmail.com     |521            |500             |\n",
      "|XOXOAB@YAHOO.COM            |1406           |500             |\n",
      "|lindblad2716@aol.com        |38             |500             |\n",
      "|xoxoab@yahoo.com            |93             |498             |\n",
      "|JOEMARTINTIGER@GMAIL.COM    |10             |415             |\n",
      "|steven.a.nielsen@gmail.com  |95             |393             |\n",
      "|Steve@NielsenPatents.com    |95             |393             |\n",
      "|accelinflation@yahoo.com    |34             |382             |\n",
      "|Alexanthony1984@hotmail.com |18             |359             |\n",
      "|Mail@Patents.gs             |12             |307             |\n",
      "|SethNehrbass@patents.gs     |12             |307             |\n",
      "|SNehrbass@gmail.com         |12             |307             |\n",
      "|sealsrosesandstars@yahoo.com|53             |299             |\n",
      "|eoa@wenderoth.com           |156            |271             |\n",
      "|kmiller@wenderoth.com       |156            |271             |\n",
      "|ipdocket@foxrothschild.com  |121            |268             |\n",
      "|HoxiePatentMail@hoxpat.com  |10             |263             |\n",
      "|file@hoxpat.com             |10             |263             |\n",
      "|HoxiePatentMail@gmail.com   |10             |263             |\n",
      "|pattifam5@earthlink.com     |30             |250             |\n",
      "|pje@viplawgroup.com         |7              |240             |\n",
      "|Sayeed2222@gmail.com        |57             |239             |\n",
      "|eofficeaction@appcoll.com   |2746           |239             |\n",
      "|patents@vlplawgroup.com     |8              |230             |\n",
      "|ptomail@designlawgroup.com  |258            |222             |\n",
      "|PTOC@Fenwick.com            |105            |213             |\n",
      "|lgoodwin@lawfirm.ms         |7              |212             |\n",
      "|SCarriker@lawfirm.ms        |7              |212             |\n",
      "|email@antonelli.com         |25             |206             |\n",
      "|inbrownwetrust34@gmail.com  |8              |200             |\n",
      "|bospatents@dechert.com      |18             |195             |\n",
      "|cadanoc@gtlaw.com           |141            |186             |\n",
      "|njdocket@gtlaw.com          |81             |186             |\n",
      "|clairt@gtlaw.com            |217            |186             |\n",
      "|Patents@alexion.com         |7              |185             |\n",
      "+----------------------------+---------------+----------------+\n",
      "only showing top 35 rows\n",
      "\n"
     ]
    }
   ],
   "source": [
    "df_signal_2=df_matched_emails.groupby('emailaddresstext').agg(f.count('emailaddresstext').alias(\"Count_of_emails\"),f.max('title_length').alias('max_title_length'))\n",
    "df_signal_2.where(col(\"Count_of_emails\") > 6).sort(desc('max_title_length')).show(n=35,truncate=False)"
   ]
  },
  {
   "cell_type": "markdown",
   "metadata": {},
   "source": [
    "<h4>  Looking at the invention titles"
   ]
  },
  {
   "cell_type": "code",
   "execution_count": 14,
   "metadata": {},
   "outputs": [
    {
     "name": "stdout",
     "output_type": "stream",
     "text": [
      "-RECORD 0---------------------------------------------------------------------------------------------------------------------------------------------------------------------------------------------------------------------------------------------------------------------------------------------------\n",
      " applicationnumbertext            | 63142435                                                                                                                                                                                                                                                                \n",
      " effectivefilingdate              | 1611723600                                                                                                                                                                                                                                                              \n",
      " inventiontitle                   | SYSTEMS AND METHODS FOR DNA ATTACHMENT BETWEEN NANOPORES                                                                                                                                                                                                                \n",
      " applicationstatusdescriptiontext | Abandoned  --  Incomplete Application (Pre-examination)                                                                                                                                                                                                                 \n",
      " title_length                     | 56                                                                                                                                                                                                                                                                      \n",
      " emailaddresstext                 | HoxiePatentMail@gmail.com                                                                                                                                                                                                                                               \n",
      " deleteexistingemail              | false                                                                                                                                                                                                                                                                   \n",
      "-RECORD 1---------------------------------------------------------------------------------------------------------------------------------------------------------------------------------------------------------------------------------------------------------------------------------------------------\n",
      " applicationnumbertext            | 29418034                                                                                                                                                                                                                                                                \n",
      " effectivefilingdate              | 1334116800                                                                                                                                                                                                                                                              \n",
      " inventiontitle                   | CHOCOLATE CUP                                                                                                                                                                                                                                                           \n",
      " applicationstatusdescriptiontext | Abandoned  --  Failure to Respond to an Office Action                                                                                                                                                                                                                   \n",
      " title_length                     | 13                                                                                                                                                                                                                                                                      \n",
      " emailaddresstext                 | HoxiePatentMail@gmail.com                                                                                                                                                                                                                                               \n",
      " deleteexistingemail              | false                                                                                                                                                                                                                                                                   \n",
      "-RECORD 2---------------------------------------------------------------------------------------------------------------------------------------------------------------------------------------------------------------------------------------------------------------------------------------------------\n",
      " applicationnumbertext            | 63000868                                                                                                                                                                                                                                                                \n",
      " effectivefilingdate              | 1585281600                                                                                                                                                                                                                                                              \n",
      " inventiontitle                   | AEROSOL DELIVERY OF AT LEAST TWO LIQUID COMPOSITIONS                                                                                                                                                                                                                    \n",
      " applicationstatusdescriptiontext | Abandoned  --  Incomplete Application (Pre-examination)                                                                                                                                                                                                                 \n",
      " title_length                     | 52                                                                                                                                                                                                                                                                      \n",
      " emailaddresstext                 | HoxiePatentMail@gmail.com                                                                                                                                                                                                                                               \n",
      " deleteexistingemail              | false                                                                                                                                                                                                                                                                   \n",
      "-RECORD 3---------------------------------------------------------------------------------------------------------------------------------------------------------------------------------------------------------------------------------------------------------------------------------------------------\n",
      " applicationnumbertext            | 63049528                                                                                                                                                                                                                                                                \n",
      " effectivefilingdate              | 1594180800                                                                                                                                                                                                                                                              \n",
      " inventiontitle                   | BI-FUNCTIONAL COMPOUNDS AND METHODS FOR TARGETED UBIQUITINATION OF PARP                                                                                                                                                                                                 \n",
      " applicationstatusdescriptiontext | Abandoned  --  Incomplete Application (Pre-examination)                                                                                                                                                                                                                 \n",
      " title_length                     | 71                                                                                                                                                                                                                                                                      \n",
      " emailaddresstext                 | HoxiePatentMail@gmail.com                                                                                                                                                                                                                                               \n",
      " deleteexistingemail              | false                                                                                                                                                                                                                                                                   \n",
      "-RECORD 4---------------------------------------------------------------------------------------------------------------------------------------------------------------------------------------------------------------------------------------------------------------------------------------------------\n",
      " applicationnumbertext            | 63162462                                                                                                                                                                                                                                                                \n",
      " effectivefilingdate              | 1615953600                                                                                                                                                                                                                                                              \n",
      " inventiontitle                   | LYOPHILIZED PHARMACEUTICAL COMPOSITIONS                                                                                                                                                                                                                                 \n",
      " applicationstatusdescriptiontext | Abandoned  --  Incomplete Application (Pre-examination)                                                                                                                                                                                                                 \n",
      " title_length                     | 39                                                                                                                                                                                                                                                                      \n",
      " emailaddresstext                 | HoxiePatentMail@gmail.com                                                                                                                                                                                                                                               \n",
      " deleteexistingemail              | false                                                                                                                                                                                                                                                                   \n",
      "-RECORD 5---------------------------------------------------------------------------------------------------------------------------------------------------------------------------------------------------------------------------------------------------------------------------------------------------\n",
      " applicationnumbertext            | 29293736                                                                                                                                                                                                                                                                \n",
      " effectivefilingdate              | 1197262800                                                                                                                                                                                                                                                              \n",
      " inventiontitle                   | Box                                                                                                                                                                                                                                                                     \n",
      " applicationstatusdescriptiontext | Abandoned  --  Failure to Respond to an Office Action                                                                                                                                                                                                                   \n",
      " title_length                     | 3                                                                                                                                                                                                                                                                       \n",
      " emailaddresstext                 | HoxiePatentMail@gmail.com                                                                                                                                                                                                                                               \n",
      " deleteexistingemail              | false                                                                                                                                                                                                                                                                   \n",
      "-RECORD 6---------------------------------------------------------------------------------------------------------------------------------------------------------------------------------------------------------------------------------------------------------------------------------------------------\n",
      " applicationnumbertext            | 63109226                                                                                                                                                                                                                                                                \n",
      " effectivefilingdate              | 1604379600                                                                                                                                                                                                                                                              \n",
      " inventiontitle                   | Panels of brain and peripheral sncRNAs circulating in body fluids for therapeutics and diagnostics of Alzheimer's disease, frontotemporal dementia, Dementia with Lewy body, corticobasal degeneration, progressive supranuclear palsy and Parkinson's disease dementia \n",
      " applicationstatusdescriptiontext | Abandoned  --  Incomplete Application (Pre-examination)                                                                                                                                                                                                                 \n",
      " title_length                     | 263                                                                                                                                                                                                                                                                     \n",
      " emailaddresstext                 | HoxiePatentMail@gmail.com                                                                                                                                                                                                                                               \n",
      " deleteexistingemail              | false                                                                                                                                                                                                                                                                   \n",
      "-RECORD 7---------------------------------------------------------------------------------------------------------------------------------------------------------------------------------------------------------------------------------------------------------------------------------------------------\n",
      " applicationnumbertext            | 63255678                                                                                                                                                                                                                                                                \n",
      " effectivefilingdate              | 1634184000                                                                                                                                                                                                                                                              \n",
      " inventiontitle                   | Panels of brain and peripheral sncRNAs circulating in body fluids for therapeutics and diagnostics of Alzheimer's disease, frontotemporal dementia, Dementia with Lewy body, corticobasal degeneration, progressive supranuclear palsy and Parkinson's disease dementia \n",
      " applicationstatusdescriptiontext | Abandoned  --  Incomplete Application (Pre-examination)                                                                                                                                                                                                                 \n",
      " title_length                     | 263                                                                                                                                                                                                                                                                     \n",
      " emailaddresstext                 | HoxiePatentMail@gmail.com                                                                                                                                                                                                                                               \n",
      " deleteexistingemail              | false                                                                                                                                                                                                                                                                   \n",
      "-RECORD 8---------------------------------------------------------------------------------------------------------------------------------------------------------------------------------------------------------------------------------------------------------------------------------------------------\n",
      " applicationnumbertext            | 29443429                                                                                                                                                                                                                                                                \n",
      " effectivefilingdate              | 1358398800                                                                                                                                                                                                                                                              \n",
      " inventiontitle                   | WRISTBAND                                                                                                                                                                                                                                                               \n",
      " applicationstatusdescriptiontext | Abandoned  --  Failure to Respond to an Office Action                                                                                                                                                                                                                   \n",
      " title_length                     | 9                                                                                                                                                                                                                                                                       \n",
      " emailaddresstext                 | HoxiePatentMail@gmail.com                                                                                                                                                                                                                                               \n",
      " deleteexistingemail              | false                                                                                                                                                                                                                                                                   \n",
      "-RECORD 9---------------------------------------------------------------------------------------------------------------------------------------------------------------------------------------------------------------------------------------------------------------------------------------------------\n",
      " applicationnumbertext            | 29453685                                                                                                                                                                                                                                                                \n",
      " effectivefilingdate              | 1367380800                                                                                                                                                                                                                                                              \n",
      " inventiontitle                   | TOE CUSHION                                                                                                                                                                                                                                                             \n",
      " applicationstatusdescriptiontext | Abandoned  --  Failure to Respond to an Office Action                                                                                                                                                                                                                   \n",
      " title_length                     | 11                                                                                                                                                                                                                                                                      \n",
      " emailaddresstext                 | HoxiePatentMail@gmail.com                                                                                                                                                                                                                                               \n",
      " deleteexistingemail              | false                                                                                                                                                                                                                                                                   \n",
      "\n"
     ]
    }
   ],
   "source": [
    "df_matched_emails.filter(col(\"emailaddresstext\").contains('HoxiePatentMail@gmail.com')).show(truncate=False,vertical=True)"
   ]
  },
  {
   "cell_type": "code",
   "execution_count": 15,
   "metadata": {},
   "outputs": [
    {
     "name": "stdout",
     "output_type": "stream",
     "text": [
      "-RECORD 0--------------------------------------------------------------------------------------\n",
      " applicationnumbertext            | 29321136                                                   \n",
      " effectivefilingdate              | 1215748800                                                 \n",
      " inventiontitle                   | TOOL HOOK                                                  \n",
      " applicationstatusdescriptiontext | Abandoned  --  Failure to Pay Issue Fee                    \n",
      " title_length                     | 9                                                          \n",
      " emailaddresstext                 | eofficeaction@appcoll.com                                  \n",
      " deleteexistingemail              | false                                                      \n",
      "-RECORD 1--------------------------------------------------------------------------------------\n",
      " applicationnumbertext            | 29369623                                                   \n",
      " effectivefilingdate              | 1284091200                                                 \n",
      " inventiontitle                   | WRENCH SOCKET                                              \n",
      " applicationstatusdescriptiontext | Abandoned  --  Failure to Respond to an Office Action      \n",
      " title_length                     | 13                                                         \n",
      " emailaddresstext                 | eofficeaction@appcoll.com                                  \n",
      " deleteexistingemail              | false                                                      \n",
      "-RECORD 2--------------------------------------------------------------------------------------\n",
      " applicationnumbertext            | 29497258                                                   \n",
      " effectivefilingdate              | 1406001600                                                 \n",
      " inventiontitle                   | Battery Cover for Electronic Device                        \n",
      " applicationstatusdescriptiontext | Abandoned  --  Incomplete Application (Pre-examination)    \n",
      " title_length                     | 35                                                         \n",
      " emailaddresstext                 | eofficeaction@appcoll.com                                  \n",
      " deleteexistingemail              | false                                                      \n",
      "-RECORD 3--------------------------------------------------------------------------------------\n",
      " applicationnumbertext            | 29518970                                                   \n",
      " effectivefilingdate              | 1425013200                                                 \n",
      " inventiontitle                   | TRANSFORMABLE TOY                                          \n",
      " applicationstatusdescriptiontext | Abandoned  --  Failure to Pay Issue Fee                    \n",
      " title_length                     | 17                                                         \n",
      " emailaddresstext                 | eofficeaction@appcoll.com                                  \n",
      " deleteexistingemail              | false                                                      \n",
      "-RECORD 4--------------------------------------------------------------------------------------\n",
      " applicationnumbertext            | 29545201                                                   \n",
      " effectivefilingdate              | 1447131600                                                 \n",
      " inventiontitle                   | PADDED HEADBAND                                            \n",
      " applicationstatusdescriptiontext | Abandoned  --  Failure to Respond to an Office Action      \n",
      " title_length                     | 15                                                         \n",
      " emailaddresstext                 | eofficeaction@appcoll.com                                  \n",
      " deleteexistingemail              | false                                                      \n",
      "-RECORD 5--------------------------------------------------------------------------------------\n",
      " applicationnumbertext            | 29646978                                                   \n",
      " effectivefilingdate              | 1525752000                                                 \n",
      " inventiontitle                   | SOCK                                                       \n",
      " applicationstatusdescriptiontext | Abandoned  --  Failure to Respond to an Office Action      \n",
      " title_length                     | 4                                                          \n",
      " emailaddresstext                 | eofficeaction@appcoll.com                                  \n",
      " deleteexistingemail              | false                                                      \n",
      "-RECORD 6--------------------------------------------------------------------------------------\n",
      " applicationnumbertext            | 29656719                                                   \n",
      " effectivefilingdate              | 1531713600                                                 \n",
      " inventiontitle                   | MOBILE PHONE STAND                                         \n",
      " applicationstatusdescriptiontext | Abandoned  --  Failure to Respond to an Office Action      \n",
      " title_length                     | 18                                                         \n",
      " emailaddresstext                 | eofficeaction@appcoll.com                                  \n",
      " deleteexistingemail              | false                                                      \n",
      "-RECORD 7--------------------------------------------------------------------------------------\n",
      " applicationnumbertext            | 29703854                                                   \n",
      " effectivefilingdate              | 1567051200                                                 \n",
      " inventiontitle                   | Electronic Cigarette                                       \n",
      " applicationstatusdescriptiontext | Abandoned  --  Failure to Respond to an Office Action      \n",
      " title_length                     | 20                                                         \n",
      " emailaddresstext                 | eofficeaction@appcoll.com                                  \n",
      " deleteexistingemail              | false                                                      \n",
      "-RECORD 8--------------------------------------------------------------------------------------\n",
      " applicationnumbertext            | 29141496                                                   \n",
      " effectivefilingdate              | 989208000                                                  \n",
      " inventiontitle                   | SHOULDER STRAP REPOSITIONER FOR VEHICLE SEAT BELT ASSEMBLY \n",
      " applicationstatusdescriptiontext | Abandoned  --  Failure to Pay Issue Fee                    \n",
      " title_length                     | 58                                                         \n",
      " emailaddresstext                 | eofficeaction@appcoll.com                                  \n",
      " deleteexistingemail              | false                                                      \n",
      "-RECORD 9--------------------------------------------------------------------------------------\n",
      " applicationnumbertext            | 29271088                                                   \n",
      " effectivefilingdate              | 1168405200                                                 \n",
      " inventiontitle                   | CAR HANDLE                                                 \n",
      " applicationstatusdescriptiontext | Abandoned  --  Failure to Pay Issue Fee                    \n",
      " title_length                     | 10                                                         \n",
      " emailaddresstext                 | eofficeaction@appcoll.com                                  \n",
      " deleteexistingemail              | false                                                      \n",
      "-RECORD 10-------------------------------------------------------------------------------------\n",
      " applicationnumbertext            | 29426570                                                   \n",
      " effectivefilingdate              | 1341547200                                                 \n",
      " inventiontitle                   | CONTEXTUAL ADVERTISING PLATFORM                            \n",
      " applicationstatusdescriptiontext | Abandoned  --  Failure to Respond to an Office Action      \n",
      " title_length                     | 31                                                         \n",
      " emailaddresstext                 | eofficeaction@appcoll.com                                  \n",
      " deleteexistingemail              | false                                                      \n",
      "-RECORD 11-------------------------------------------------------------------------------------\n",
      " applicationnumbertext            | 29500881                                                   \n",
      " effectivefilingdate              | 1409284800                                                 \n",
      " inventiontitle                   | Stand Structure                                            \n",
      " applicationstatusdescriptiontext | Abandoned  --  Failure to Respond to an Office Action      \n",
      " title_length                     | 15                                                         \n",
      " emailaddresstext                 | eofficeaction@appcoll.com                                  \n",
      " deleteexistingemail              | false                                                      \n",
      "-RECORD 12-------------------------------------------------------------------------------------\n",
      " applicationnumbertext            | 29553315                                                   \n",
      " effectivefilingdate              | 1454043600                                                 \n",
      " inventiontitle                   | COILLESS ATOMIZER                                          \n",
      " applicationstatusdescriptiontext | Abandoned  --  Failure to Respond to an Office Action      \n",
      " title_length                     | 17                                                         \n",
      " emailaddresstext                 | eofficeaction@appcoll.com                                  \n",
      " deleteexistingemail              | false                                                      \n",
      "-RECORD 13-------------------------------------------------------------------------------------\n",
      " applicationnumbertext            | 29568345                                                   \n",
      " effectivefilingdate              | 1466136000                                                 \n",
      " inventiontitle                   | Garment                                                    \n",
      " applicationstatusdescriptiontext | Abandoned  --  Failure to Respond to an Office Action      \n",
      " title_length                     | 7                                                          \n",
      " emailaddresstext                 | eofficeaction@appcoll.com                                  \n",
      " deleteexistingemail              | false                                                      \n",
      "-RECORD 14-------------------------------------------------------------------------------------\n",
      " applicationnumbertext            | 29668015                                                   \n",
      " effectivefilingdate              | 1540526400                                                 \n",
      " inventiontitle                   | Rocket Apparatus                                           \n",
      " applicationstatusdescriptiontext | Abandoned  --  Failure to Respond to an Office Action      \n",
      " title_length                     | 16                                                         \n",
      " emailaddresstext                 | eofficeaction@appcoll.com                                  \n",
      " deleteexistingemail              | false                                                      \n",
      "-RECORD 15-------------------------------------------------------------------------------------\n",
      " applicationnumbertext            | 29316239                                                   \n",
      " effectivefilingdate              | 1252036800                                                 \n",
      " inventiontitle                   | Mouth guard retainer                                       \n",
      " applicationstatusdescriptiontext | Abandoned  --  Failure to Respond to an Office Action      \n",
      " title_length                     | 20                                                         \n",
      " emailaddresstext                 | eofficeaction@appcoll.com                                  \n",
      " deleteexistingemail              | false                                                      \n",
      "-RECORD 16-------------------------------------------------------------------------------------\n",
      " applicationnumbertext            | 29439094                                                   \n",
      " effectivefilingdate              | 1354770000                                                 \n",
      " inventiontitle                   | Guitar Headstock                                           \n",
      " applicationstatusdescriptiontext | Abandoned  --  Failure to Respond to an Office Action      \n",
      " title_length                     | 16                                                         \n",
      " emailaddresstext                 | eofficeaction@appcoll.com                                  \n",
      " deleteexistingemail              | false                                                      \n",
      "-RECORD 17-------------------------------------------------------------------------------------\n",
      " applicationnumbertext            | 29507057                                                   \n",
      " effectivefilingdate              | 1414036800                                                 \n",
      " inventiontitle                   | LED Lamp                                                   \n",
      " applicationstatusdescriptiontext | Abandoned  --  Failure to Respond to an Office Action      \n",
      " title_length                     | 8                                                          \n",
      " emailaddresstext                 | eofficeaction@appcoll.com                                  \n",
      " deleteexistingemail              | false                                                      \n",
      "-RECORD 18-------------------------------------------------------------------------------------\n",
      " applicationnumbertext            | 29558002                                                   \n",
      " effectivefilingdate              | 1457928000                                                 \n",
      " inventiontitle                   | PULL WITH WORD DESIGN                                      \n",
      " applicationstatusdescriptiontext | Abandoned  --  Failure to Respond to an Office Action      \n",
      " title_length                     | 21                                                         \n",
      " emailaddresstext                 | eofficeaction@appcoll.com                                  \n",
      " deleteexistingemail              | false                                                      \n",
      "-RECORD 19-------------------------------------------------------------------------------------\n",
      " applicationnumbertext            | 29574791                                                   \n",
      " effectivefilingdate              | 1471492800                                                 \n",
      " inventiontitle                   | SYRINGE CAP                                                \n",
      " applicationstatusdescriptiontext | Abandoned  --  Failure to Respond to an Office Action      \n",
      " title_length                     | 11                                                         \n",
      " emailaddresstext                 | eofficeaction@appcoll.com                                  \n",
      " deleteexistingemail              | false                                                      \n",
      "only showing top 20 rows\n",
      "\n"
     ]
    }
   ],
   "source": [
    "df_matched_emails.filter(col(\"emailaddresstext\").contains('eofficeaction@appcoll.com')).show(truncate=False,vertical=True)"
   ]
  },
  {
   "cell_type": "code",
   "execution_count": 16,
   "metadata": {},
   "outputs": [
    {
     "name": "stdout",
     "output_type": "stream",
     "text": [
      "-RECORD 0---------------------------------------------------------------------------------------------------------------------------------------------------------------------------------------------------------------------------------------------------------------------------------------------------------------------------------------------------------------------------------------------------\n",
      " applicationnumbertext            | 63155038                                                                                                                                                                                                                                                                                                                                                                \n",
      " effectivefilingdate              | 1614574800                                                                                                                                                                                                                                                                                                                                                              \n",
      " inventiontitle                   | Utility Designed  for functionality of distinguishing  plans ,notes,instructions,  guidelines  for page spacing, evolution stages of projects for @ Corporation. Work times , and phases in construction , planning, used for CFR MUNITIONS FOR WAR plans, blue prints                                                                                                  \n",
      " applicationstatusdescriptiontext | Abandoned  --  Incomplete Application (Pre-examination)                                                                                                                                                                                                                                                                                                                 \n",
      " title_length                     | 262                                                                                                                                                                                                                                                                                                                                                                     \n",
      " emailaddresstext                 | Alexanthony1984@hotmail.com                                                                                                                                                                                                                                                                                                                                             \n",
      " deleteexistingemail              | false                                                                                                                                                                                                                                                                                                                                                                   \n",
      "-RECORD 1---------------------------------------------------------------------------------------------------------------------------------------------------------------------------------------------------------------------------------------------------------------------------------------------------------------------------------------------------------------------------------------------------\n",
      " applicationnumbertext            | 63068997                                                                                                                                                                                                                                                                                                                                                                \n",
      " effectivefilingdate              | 1598068800                                                                                                                                                                                                                                                                                                                                                              \n",
      " inventiontitle                   | Utility  designed for function of  blue prints plans, distribution,  page space,  for each section with specific information, cover page of blue print, plan set , munitions for war , non munition for war products listing used for master set of blue print set                                                                                                      \n",
      " applicationstatusdescriptiontext | Abandoned  --  Incomplete Application (Pre-examination)                                                                                                                                                                                                                                                                                                                 \n",
      " title_length                     | 258                                                                                                                                                                                                                                                                                                                                                                     \n",
      " emailaddresstext                 | Alexanthony1984@hotmail.com                                                                                                                                                                                                                                                                                                                                             \n",
      " deleteexistingemail              | false                                                                                                                                                                                                                                                                                                                                                                   \n",
      "-RECORD 2---------------------------------------------------------------------------------------------------------------------------------------------------------------------------------------------------------------------------------------------------------------------------------------------------------------------------------------------------------------------------------------------------\n",
      " applicationnumbertext            | 63148762                                                                                                                                                                                                                                                                                                                                                                \n",
      " effectivefilingdate              | 1613106000                                                                                                                                                                                                                                                                                                                                                              \n",
      " inventiontitle                   | Utility designed page spacer , blue pront spacer designed for distinguishing blue prints plans, used for correct construction process , on fabrication of @ corporation products.meets all CFR guidelines for marketing and building codes , engineering, architect, drafting designs under law. Munitions for war products    are limited to purchase and construction \n",
      " applicationstatusdescriptiontext | Abandoned  --  Incomplete Application (Pre-examination)                                                                                                                                                                                                                                                                                                                 \n",
      " title_length                     | 359                                                                                                                                                                                                                                                                                                                                                                     \n",
      " emailaddresstext                 | Alexanthony1984@hotmail.com                                                                                                                                                                                                                                                                                                                                             \n",
      " deleteexistingemail              | false                                                                                                                                                                                                                                                                                                                                                                   \n",
      "-RECORD 3---------------------------------------------------------------------------------------------------------------------------------------------------------------------------------------------------------------------------------------------------------------------------------------------------------------------------------------------------------------------------------------------------\n",
      " applicationnumbertext            | 63108287                                                                                                                                                                                                                                                                                                                                                                \n",
      " effectivefilingdate              | 1604116800                                                                                                                                                                                                                                                                                                                                                              \n",
      " inventiontitle                   | Utility designed for distinguishing prints.a.so for home program, cyber law c compliance                                                                                                                                                                                                                                                                                \n",
      " applicationstatusdescriptiontext | Abandoned  --  Incomplete Application (Pre-examination)                                                                                                                                                                                                                                                                                                                 \n",
      " title_length                     | 88                                                                                                                                                                                                                                                                                                                                                                      \n",
      " emailaddresstext                 | Alexanthony1984@hotmail.com                                                                                                                                                                                                                                                                                                                                             \n",
      " deleteexistingemail              | false                                                                                                                                                                                                                                                                                                                                                                   \n",
      "-RECORD 4---------------------------------------------------------------------------------------------------------------------------------------------------------------------------------------------------------------------------------------------------------------------------------------------------------------------------------------------------------------------------------------------------\n",
      " applicationnumbertext            | 63008836                                                                                                                                                                                                                                                                                                                                                                \n",
      " effectivefilingdate              | 1586750400                                                                                                                                                                                                                                                                                                                                                              \n",
      " inventiontitle                   | Utility design for function of separation of plans ,blue print,html coding<@CORPORATION RESEARCH & DESIGN >PAGE SPACER DESIGNED  FOR SECTION DESCRIPTION OF PRODUCTS OFFERED,ENGINEERING CODE,ARCHITECT CODE,DRAFTING CODE MEET.                                                                                                                                        \n",
      " applicationstatusdescriptiontext | Abandoned  --  Incomplete Application (Pre-examination)                                                                                                                                                                                                                                                                                                                 \n",
      " title_length                     | 224                                                                                                                                                                                                                                                                                                                                                                     \n",
      " emailaddresstext                 | Alexanthony1984@hotmail.com                                                                                                                                                                                                                                                                                                                                             \n",
      " deleteexistingemail              | false                                                                                                                                                                                                                                                                                                                                                                   \n",
      "-RECORD 5---------------------------------------------------------------------------------------------------------------------------------------------------------------------------------------------------------------------------------------------------------------------------------------------------------------------------------------------------------------------------------------------------\n",
      " applicationnumbertext            | 63020566                                                                                                                                                                                                                                                                                                                                                                \n",
      " effectivefilingdate              | 1588737600                                                                                                                                                                                                                                                                                                                                                              \n",
      " inventiontitle                   | UTILITY DESIGN FOR FUNCTION  DURING INVESTMENT STAGE MATURE, PREMATURE INVESTMENT ACCOUNTS WITH PROPPER  LEGAL MARKET  PROCEDURES , PRODUCT TITLES @CORPORATION RESEARCH & DESIGN A TEXTILES ALUMNI & ASSOCIATES EST.1829                                                                                                                                               \n",
      " applicationstatusdescriptiontext | Abandoned  --  Incomplete Application (Pre-examination)                                                                                                                                                                                                                                                                                                                 \n",
      " title_length                     | 217                                                                                                                                                                                                                                                                                                                                                                     \n",
      " emailaddresstext                 | Alexanthony1984@hotmail.com                                                                                                                                                                                                                                                                                                                                             \n",
      " deleteexistingemail              | false                                                                                                                                                                                                                                                                                                                                                                   \n",
      "-RECORD 6---------------------------------------------------------------------------------------------------------------------------------------------------------------------------------------------------------------------------------------------------------------------------------------------------------------------------------------------------------------------------------------------------\n",
      " applicationnumbertext            | 63078462                                                                                                                                                                                                                                                                                                                                                                \n",
      " effectivefilingdate              | 1600142400                                                                                                                                                                                                                                                                                                                                                              \n",
      " inventiontitle                   | UTILITY DESIGNED  FOR HTML PROGRAMMING OF ALUMNI & ASSOCIATES 1829 .                                                                                                                                                                                                                                                                                                    \n",
      " applicationstatusdescriptiontext | Abandoned  --  Incomplete Application (Pre-examination)                                                                                                                                                                                                                                                                                                                 \n",
      " title_length                     | 68                                                                                                                                                                                                                                                                                                                                                                      \n",
      " emailaddresstext                 | Alexanthony1984@hotmail.com                                                                                                                                                                                                                                                                                                                                             \n",
      " deleteexistingemail              | false                                                                                                                                                                                                                                                                                                                                                                   \n",
      "-RECORD 7---------------------------------------------------------------------------------------------------------------------------------------------------------------------------------------------------------------------------------------------------------------------------------------------------------------------------------------------------------------------------------------------------\n",
      " applicationnumbertext            | 63048659                                                                                                                                                                                                                                                                                                                                                                \n",
      " effectivefilingdate              | 1594094400                                                                                                                                                                                                                                                                                                                                                              \n",
      " inventiontitle                   | Utility  designed for distinguishing  , specifically  identifying,  displaying correct prints , page spacer, Introduction cover page for @ CORPORATION  RESEARCH  & DESIGN                                                                                                                                                                                              \n",
      " applicationstatusdescriptiontext | Abandoned  --  Incomplete Application (Pre-examination)                                                                                                                                                                                                                                                                                                                 \n",
      " title_length                     | 170                                                                                                                                                                                                                                                                                                                                                                     \n",
      " emailaddresstext                 | Alexanthony1984@hotmail.com                                                                                                                                                                                                                                                                                                                                             \n",
      " deleteexistingemail              | false                                                                                                                                                                                                                                                                                                                                                                   \n",
      "-RECORD 8---------------------------------------------------------------------------------------------------------------------------------------------------------------------------------------------------------------------------------------------------------------------------------------------------------------------------------------------------------------------------------------------------\n",
      " applicationnumbertext            | 63011077                                                                                                                                                                                                                                                                                                                                                                \n",
      " effectivefilingdate              | 1587009600                                                                                                                                                                                                                                                                                                                                                              \n",
      " inventiontitle                   | Utility designed for html web page layout design visual aid application  used for appearance,  html <ALUMNI & ASSOCIATES EST.1829 >                                                                                                                                                                                                                                     \n",
      " applicationstatusdescriptiontext | Abandoned  --  Incomplete Application (Pre-examination)                                                                                                                                                                                                                                                                                                                 \n",
      " title_length                     | 131                                                                                                                                                                                                                                                                                                                                                                     \n",
      " emailaddresstext                 | Alexanthony1984@hotmail.com                                                                                                                                                                                                                                                                                                                                             \n",
      " deleteexistingemail              | false                                                                                                                                                                                                                                                                                                                                                                   \n",
      "-RECORD 9---------------------------------------------------------------------------------------------------------------------------------------------------------------------------------------------------------------------------------------------------------------------------------------------------------------------------------------------------------------------------------------------------\n",
      " applicationnumbertext            | 63138432                                                                                                                                                                                                                                                                                                                                                                \n",
      " effectivefilingdate              | 1610773200                                                                                                                                                                                                                                                                                                                                                              \n",
      " inventiontitle                   | Utility  designed for function of distinguishing  plans,prints, documents used during briefings,  manufacturing, fabrication, construction .meets CFR guidelines  for marketing and trade                                                                                                                                                                               \n",
      " applicationstatusdescriptiontext | Abandoned  --  Incomplete Application (Pre-examination)                                                                                                                                                                                                                                                                                                                 \n",
      " title_length                     | 185                                                                                                                                                                                                                                                                                                                                                                     \n",
      " emailaddresstext                 | Alexanthony1984@hotmail.com                                                                                                                                                                                                                                                                                                                                             \n",
      " deleteexistingemail              | false                                                                                                                                                                                                                                                                                                                                                                   \n",
      "-RECORD 10--------------------------------------------------------------------------------------------------------------------------------------------------------------------------------------------------------------------------------------------------------------------------------------------------------------------------------------------------------------------------------------------------\n",
      " applicationnumbertext            | 63001511                                                                                                                                                                                                                                                                                                                                                                \n",
      " effectivefilingdate              | 1585540800                                                                                                                                                                                                                                                                                                                                                              \n",
      " inventiontitle                   | Utility designed                                                                                                                                                                                                                                                                                                                                                        \n",
      " applicationstatusdescriptiontext | Abandoned  --  Incomplete Application (Pre-examination)                                                                                                                                                                                                                                                                                                                 \n",
      " title_length                     | 16                                                                                                                                                                                                                                                                                                                                                                      \n",
      " emailaddresstext                 | Alexanthony1984@hotmail.com                                                                                                                                                                                                                                                                                                                                             \n",
      " deleteexistingemail              | false                                                                                                                                                                                                                                                                                                                                                                   \n",
      "-RECORD 11--------------------------------------------------------------------------------------------------------------------------------------------------------------------------------------------------------------------------------------------------------------------------------------------------------------------------------------------------------------------------------------------------\n",
      " applicationnumbertext            | 63073417                                                                                                                                                                                                                                                                                                                                                                \n",
      " effectivefilingdate              | 1598932800                                                                                                                                                                                                                                                                                                                                                              \n",
      " inventiontitle                   | @ CORPORATION UTILITY DESIGNED PAGE SPACER FOR  ACCURATE READINGS OF PLANS,  BLUE PRINTS PRODUCTS , CAPABLE OF BEING USED OFR INVESTMENT CONTRACTS AND BRIEFINGS, MEETS ALL BUILDING CODES NEEDED FOR MARKETING UNDER LATEST CODE FOR FEDERAL REGULATIONS                                                                                                               \n",
      " applicationstatusdescriptiontext | Abandoned  --  Incomplete Application (Pre-examination)                                                                                                                                                                                                                                                                                                                 \n",
      " title_length                     | 249                                                                                                                                                                                                                                                                                                                                                                     \n",
      " emailaddresstext                 | Alexanthony1984@hotmail.com                                                                                                                                                                                                                                                                                                                                             \n",
      " deleteexistingemail              | false                                                                                                                                                                                                                                                                                                                                                                   \n",
      "-RECORD 12--------------------------------------------------------------------------------------------------------------------------------------------------------------------------------------------------------------------------------------------------------------------------------------------------------------------------------------------------------------------------------------------------\n",
      " applicationnumbertext            | 63142499                                                                                                                                                                                                                                                                                                                                                                \n",
      " effectivefilingdate              | 1611810000                                                                                                                                                                                                                                                                                                                                                              \n",
      " inventiontitle                   | Utility  Designed Page spacer for custom set of @ Corporation  Research & Design blue prints, plans , used marketing, construction, function , of distinguishing  plan pages for accurate distribution. meets CFR CODING for munitions  for wars ,MEETS DESIGNATED CONSTRUCTION CODES FOR USA MARKETS. Architectural,engineering, draftsman project                     \n",
      " applicationstatusdescriptiontext | Abandoned  --  Incomplete Application (Pre-examination)                                                                                                                                                                                                                                                                                                                 \n",
      " title_length                     | 339                                                                                                                                                                                                                                                                                                                                                                     \n",
      " emailaddresstext                 | Alexanthony1984@hotmail.com                                                                                                                                                                                                                                                                                                                                             \n",
      " deleteexistingemail              | false                                                                                                                                                                                                                                                                                                                                                                   \n",
      "-RECORD 13--------------------------------------------------------------------------------------------------------------------------------------------------------------------------------------------------------------------------------------------------------------------------------------------------------------------------------------------------------------------------------------------------\n",
      " applicationnumbertext            | 63055910                                                                                                                                                                                                                                                                                                                                                                \n",
      " effectivefilingdate              | 1595563200                                                                                                                                                                                                                                                                                                                                                              \n",
      " inventiontitle                   | Utility designed for functionality. Distinguishing  prints, plan spacer.utilized for cover of top page blue prints .used in sections and plans for components and products .Textiles can be used in conteact investment briefing                                                                                                                                        \n",
      " applicationstatusdescriptiontext | Abandoned  --  Incomplete Application (Pre-examination)                                                                                                                                                                                                                                                                                                                 \n",
      " title_length                     | 224                                                                                                                                                                                                                                                                                                                                                                     \n",
      " emailaddresstext                 | Alexanthony1984@hotmail.com                                                                                                                                                                                                                                                                                                                                             \n",
      " deleteexistingemail              | false                                                                                                                                                                                                                                                                                                                                                                   \n",
      "-RECORD 14--------------------------------------------------------------------------------------------------------------------------------------------------------------------------------------------------------------------------------------------------------------------------------------------------------------------------------------------------------------------------------------------------\n",
      " applicationnumbertext            | 63032117                                                                                                                                                                                                                                                                                                                                                                \n",
      " effectivefilingdate              | 1590724800                                                                                                                                                                                                                                                                                                                                                              \n",
      " inventiontitle                   | utility desinged for functionality, seperation, distingusihing prints , plans , designs, for correct erection, construction, fabrication, assembly of @ CORPORATION RESEARCH & DESIGN PRODUCTS .according to designated provided latest codes  under federal guidelines.                                                                                                \n",
      " applicationstatusdescriptiontext | Abandoned  --  Incomplete Application (Pre-examination)                                                                                                                                                                                                                                                                                                                 \n",
      " title_length                     | 264                                                                                                                                                                                                                                                                                                                                                                     \n",
      " emailaddresstext                 | Alexanthony1984@hotmail.com                                                                                                                                                                                                                                                                                                                                             \n",
      " deleteexistingemail              | false                                                                                                                                                                                                                                                                                                                                                                   \n",
      "-RECORD 15--------------------------------------------------------------------------------------------------------------------------------------------------------------------------------------------------------------------------------------------------------------------------------------------------------------------------------------------------------------------------------------------------\n",
      " applicationnumbertext            | 63003911                                                                                                                                                                                                                                                                                                                                                                \n",
      " effectivefilingdate              | 1585800000                                                                                                                                                                                                                                                                                                                                                              \n",
      " inventiontitle                   | N/A                                                                                                                                                                                                                                                                                                                                                                     \n",
      " applicationstatusdescriptiontext | Abandoned  --  Incomplete Application (Pre-examination)                                                                                                                                                                                                                                                                                                                 \n",
      " title_length                     | 3                                                                                                                                                                                                                                                                                                                                                                       \n",
      " emailaddresstext                 | Alexanthony1984@hotmail.com                                                                                                                                                                                                                                                                                                                                             \n",
      " deleteexistingemail              | false                                                                                                                                                                                                                                                                                                                                                                   \n",
      "-RECORD 16--------------------------------------------------------------------------------------------------------------------------------------------------------------------------------------------------------------------------------------------------------------------------------------------------------------------------------------------------------------------------------------------------\n",
      " applicationnumbertext            | 63089554                                                                                                                                                                                                                                                                                                                                                                \n",
      " effectivefilingdate              | 1602216000                                                                                                                                                                                                                                                                                                                                                              \n",
      " inventiontitle                   | UTILITY DESIGNED FOR FUNCTION  , BLUE PRINTS AND DRAWINGS PROPERTY  OF @ CORPORATION RESEARCH AND DESIGN , @ CORPROATION , USEAGE FOR DISPLAYING OWNERSHIP AND FUNCTION OF PRODUCTS DURING CONSTRUCTION , FABRICATION  , ERECTION, PLANNING DURING PROJECTS, CUSTON METHODS , UNDER CFR CODING FOR  CORRECT FABRICATION , AND OUTCOME OF PRODUCTS                       \n",
      " applicationstatusdescriptiontext | Abandoned  --  Incomplete Application (Pre-examination)                                                                                                                                                                                                                                                                                                                 \n",
      " title_length                     | 337                                                                                                                                                                                                                                                                                                                                                                     \n",
      " emailaddresstext                 | Alexanthony1984@hotmail.com                                                                                                                                                                                                                                                                                                                                             \n",
      " deleteexistingemail              | false                                                                                                                                                                                                                                                                                                                                                                   \n",
      "-RECORD 17--------------------------------------------------------------------------------------------------------------------------------------------------------------------------------------------------------------------------------------------------------------------------------------------------------------------------------------------------------------------------------------------------\n",
      " applicationnumbertext            | 63121259                                                                                                                                                                                                                                                                                                                                                                \n",
      " effectivefilingdate              | 1607058000                                                                                                                                                                                                                                                                                                                                                              \n",
      " inventiontitle                   | Revised cover page for blue prints Fusion shell                                                                                                                                                                                                                                                                                                                         \n",
      " applicationstatusdescriptiontext | Abandoned  --  Incomplete Application (Pre-examination)                                                                                                                                                                                                                                                                                                                 \n",
      " title_length                     | 47                                                                                                                                                                                                                                                                                                                                                                      \n",
      " emailaddresstext                 | Alexanthony1984@hotmail.com                                                                                                                                                                                                                                                                                                                                             \n",
      " deleteexistingemail              | false                                                                                                                                                                                                                                                                                                                                                                   \n",
      "\n"
     ]
    }
   ],
   "source": [
    "df_matched_emails.filter(col(\"emailaddresstext\").contains('Alexanthony1984@hotmail.com')).show(truncate=False,vertical=True)"
   ]
  },
  {
   "cell_type": "code",
   "execution_count": 17,
   "metadata": {},
   "outputs": [
    {
     "name": "stdout",
     "output_type": "stream",
     "text": [
      "-RECORD 0---------------------------------------------------------------------------------------------------------------------------------------------------------------------------------------------------------------------------------------------\n",
      " applicationnumbertext            | 29511714                                                                                                                                                                                                          \n",
      " effectivefilingdate              | 1418360400                                                                                                                                                                                                        \n",
      " inventiontitle                   | 10,000 COLORED BUDS AND BULBS TEACHING ABOUT COLORS, 20,000 NEW CHEMICAL ELEMENTS                                                                                                                                 \n",
      " applicationstatusdescriptiontext | Abandoned  --  Failure to Respond to an Office Action                                                                                                                                                             \n",
      " title_length                     | 81                                                                                                                                                                                                                \n",
      " emailaddresstext                 | accelinflation@yahoo.com                                                                                                                                                                                          \n",
      " deleteexistingemail              | false                                                                                                                                                                                                             \n",
      "-RECORD 1---------------------------------------------------------------------------------------------------------------------------------------------------------------------------------------------------------------------------------------------\n",
      " applicationnumbertext            | 29498510                                                                                                                                                                                                          \n",
      " effectivefilingdate              | 1407211200                                                                                                                                                                                                        \n",
      " inventiontitle                   | Create a Pop Up Forest World's Fair Exposition, Make Your Pop Up Forest World Expo World's Fair, Pop Up World's Fair                                                                                              \n",
      " applicationstatusdescriptiontext | Abandoned  --  Incomplete Application (Pre-examination)                                                                                                                                                           \n",
      " title_length                     | 116                                                                                                                                                                                                               \n",
      " emailaddresstext                 | accelinflation@yahoo.com                                                                                                                                                                                          \n",
      " deleteexistingemail              | false                                                                                                                                                                                                             \n",
      "-RECORD 2---------------------------------------------------------------------------------------------------------------------------------------------------------------------------------------------------------------------------------------------\n",
      " applicationnumbertext            | 29466310                                                                                                                                                                                                          \n",
      " effectivefilingdate              | 1378440000                                                                                                                                                                                                        \n",
      " inventiontitle                   | Failure of machines, counting planes, astronomical factors, medical aviation, bird issues, legal issues such as migratory bird act, new disaster airport system, broken airplanes parachute balloon rescue system \n",
      " applicationstatusdescriptiontext | Abandoned  --  Incomplete Application (Pre-examination)                                                                                                                                                           \n",
      " title_length                     | 209                                                                                                                                                                                                               \n",
      " emailaddresstext                 | accelinflation@yahoo.com                                                                                                                                                                                          \n",
      " deleteexistingemail              | false                                                                                                                                                                                                             \n",
      "-RECORD 3---------------------------------------------------------------------------------------------------------------------------------------------------------------------------------------------------------------------------------------------\n",
      " applicationnumbertext            | 29426608                                                                                                                                                                                                          \n",
      " effectivefilingdate              | 1341720000                                                                                                                                                                                                        \n",
      " inventiontitle                   | Backophone, Struckophone, Strakalaitisophone-3 New Musical Instruments                                                                                                                                            \n",
      " applicationstatusdescriptiontext | Abandoned  --  Incomplete Application (Pre-examination)                                                                                                                                                           \n",
      " title_length                     | 70                                                                                                                                                                                                                \n",
      " emailaddresstext                 | accelinflation@yahoo.com                                                                                                                                                                                          \n",
      " deleteexistingemail              | false                                                                                                                                                                                                             \n",
      "-RECORD 4---------------------------------------------------------------------------------------------------------------------------------------------------------------------------------------------------------------------------------------------\n",
      " applicationnumbertext            | 29495467                                                                                                                                                                                                          \n",
      " effectivefilingdate              | 1404187200                                                                                                                                                                                                        \n",
      " inventiontitle                   | Beings of Heaven Game Universe Nativity Game                                                                                                                                                                      \n",
      " applicationstatusdescriptiontext | Abandoned  --  Incomplete Application (Pre-examination)                                                                                                                                                           \n",
      " title_length                     | 44                                                                                                                                                                                                                \n",
      " emailaddresstext                 | accelinflation@yahoo.com                                                                                                                                                                                          \n",
      " deleteexistingemail              | false                                                                                                                                                                                                             \n",
      "-RECORD 5---------------------------------------------------------------------------------------------------------------------------------------------------------------------------------------------------------------------------------------------\n",
      " applicationnumbertext            | 29426610                                                                                                                                                                                                          \n",
      " effectivefilingdate              | 1341720000                                                                                                                                                                                                        \n",
      " inventiontitle                   | Unknown                                                                                                                                                                                                           \n",
      " applicationstatusdescriptiontext | Abandoned  --  Incomplete Application (Pre-examination)                                                                                                                                                           \n",
      " title_length                     | 7                                                                                                                                                                                                                 \n",
      " emailaddresstext                 | accelinflation@yahoo.com                                                                                                                                                                                          \n",
      " deleteexistingemail              | false                                                                                                                                                                                                             \n",
      "-RECORD 6---------------------------------------------------------------------------------------------------------------------------------------------------------------------------------------------------------------------------------------------\n",
      " applicationnumbertext            | 29466274                                                                                                                                                                                                          \n",
      " effectivefilingdate              | 1378353600                                                                                                                                                                                                        \n",
      " inventiontitle                   | Failure of Machines, Counting Planes, Astronomical Factors, Medical Aviation, Bird Issues, Legal Issues such as Migratory Bird Act, New Disaster Airport System, Broken Airplanes Parachute Balloon Rescue System \n",
      " applicationstatusdescriptiontext | Abandoned  --  Incomplete Application (Pre-examination)                                                                                                                                                           \n",
      " title_length                     | 209                                                                                                                                                                                                               \n",
      " emailaddresstext                 | accelinflation@yahoo.com                                                                                                                                                                                          \n",
      " deleteexistingemail              | false                                                                                                                                                                                                             \n",
      "-RECORD 7---------------------------------------------------------------------------------------------------------------------------------------------------------------------------------------------------------------------------------------------\n",
      " applicationnumbertext            | 29559435                                                                                                                                                                                                          \n",
      " effectivefilingdate              | 1459137600                                                                                                                                                                                                        \n",
      " inventiontitle                   | Unknown                                                                                                                                                                                                           \n",
      " applicationstatusdescriptiontext | Abandoned  --  Incomplete Application (Pre-examination)                                                                                                                                                           \n",
      " title_length                     | 7                                                                                                                                                                                                                 \n",
      " emailaddresstext                 | accelinflation@yahoo.com                                                                                                                                                                                          \n",
      " deleteexistingemail              | false                                                                                                                                                                                                             \n",
      "-RECORD 8---------------------------------------------------------------------------------------------------------------------------------------------------------------------------------------------------------------------------------------------\n",
      " applicationnumbertext            | 29497798                                                                                                                                                                                                          \n",
      " effectivefilingdate              | 1406606400                                                                                                                                                                                                        \n",
      " inventiontitle                   | Make Your Own Chemical Element New Chemical Element Game Chemical Invention Game                                                                                                                                  \n",
      " applicationstatusdescriptiontext | Abandoned  --  Incomplete Application (Pre-examination)                                                                                                                                                           \n",
      " title_length                     | 80                                                                                                                                                                                                                \n",
      " emailaddresstext                 | accelinflation@yahoo.com                                                                                                                                                                                          \n",
      " deleteexistingemail              | false                                                                                                                                                                                                             \n",
      "-RECORD 9---------------------------------------------------------------------------------------------------------------------------------------------------------------------------------------------------------------------------------------------\n",
      " applicationnumbertext            | 29473035                                                                                                                                                                                                          \n",
      " effectivefilingdate              | 1384750800                                                                                                                                                                                                        \n",
      " inventiontitle                   | Cars into bicycles                                                                                                                                                                                                \n",
      " applicationstatusdescriptiontext | Abandoned  --  Incomplete Application (Pre-examination)                                                                                                                                                           \n",
      " title_length                     | 18                                                                                                                                                                                                                \n",
      " emailaddresstext                 | accelinflation@yahoo.com                                                                                                                                                                                          \n",
      " deleteexistingemail              | false                                                                                                                                                                                                             \n",
      "-RECORD 10--------------------------------------------------------------------------------------------------------------------------------------------------------------------------------------------------------------------------------------------\n",
      " applicationnumbertext            | 29557114                                                                                                                                                                                                          \n",
      " effectivefilingdate              | 1457154000                                                                                                                                                                                                        \n",
      " inventiontitle                   | Printing $16 Trillion Dollars to Pay the United States of America Nation's Debts and Deficit Off                                                                                                                  \n",
      " applicationstatusdescriptiontext | Abandoned  --  Incomplete Application (Pre-examination)                                                                                                                                                           \n",
      " title_length                     | 96                                                                                                                                                                                                                \n",
      " emailaddresstext                 | accelinflation@yahoo.com                                                                                                                                                                                          \n",
      " deleteexistingemail              | false                                                                                                                                                                                                             \n",
      "-RECORD 11--------------------------------------------------------------------------------------------------------------------------------------------------------------------------------------------------------------------------------------------\n",
      " applicationnumbertext            | 29486203                                                                                                                                                                                                          \n",
      " effectivefilingdate              | 1395892800                                                                                                                                                                                                        \n",
      " inventiontitle                   | Skyscraper Airport Cartoon                                                                                                                                                                                        \n",
      " applicationstatusdescriptiontext | Abandoned  --  Incomplete Application (Pre-examination)                                                                                                                                                           \n",
      " title_length                     | 26                                                                                                                                                                                                                \n",
      " emailaddresstext                 | accelinflation@yahoo.com                                                                                                                                                                                          \n",
      " deleteexistingemail              | false                                                                                                                                                                                                             \n",
      "-RECORD 12--------------------------------------------------------------------------------------------------------------------------------------------------------------------------------------------------------------------------------------------\n",
      " applicationnumbertext            | 29574466                                                                                                                                                                                                          \n",
      " effectivefilingdate              | 1471320000                                                                                                                                                                                                        \n",
      " inventiontitle                   | Absolute Imaginary Numbers and Repeating Chronological Numbers                                                                                                                                                    \n",
      " applicationstatusdescriptiontext | Abandoned  --  Incomplete Application (Pre-examination)                                                                                                                                                           \n",
      " title_length                     | 62                                                                                                                                                                                                                \n",
      " emailaddresstext                 | accelinflation@yahoo.com                                                                                                                                                                                          \n",
      " deleteexistingemail              | false                                                                                                                                                                                                             \n",
      "-RECORD 13--------------------------------------------------------------------------------------------------------------------------------------------------------------------------------------------------------------------------------------------\n",
      " applicationnumbertext            | 29475750                                                                                                                                                                                                          \n",
      " effectivefilingdate              | 1386306000                                                                                                                                                                                                        \n",
      " inventiontitle                   | Nations, States and Countries Coloring or Drawing Theme Park-Draw or Color in Some of the many Nations, States, or Countries that Have Existed in the Past or Future on in Image of Our Earth                     \n",
      " applicationstatusdescriptiontext | Abandoned  --  Incomplete Application (Pre-examination)                                                                                                                                                           \n",
      " title_length                     | 189                                                                                                                                                                                                               \n",
      " emailaddresstext                 | accelinflation@yahoo.com                                                                                                                                                                                          \n",
      " deleteexistingemail              | false                                                                                                                                                                                                             \n",
      "-RECORD 14--------------------------------------------------------------------------------------------------------------------------------------------------------------------------------------------------------------------------------------------\n",
      " applicationnumbertext            | 29472001                                                                                                                                                                                                          \n",
      " effectivefilingdate              | 1383800400                                                                                                                                                                                                        \n",
      " inventiontitle                   | Nose Picker Condom                                                                                                                                                                                                \n",
      " applicationstatusdescriptiontext | Abandoned  --  Incomplete Application (Pre-examination)                                                                                                                                                           \n",
      " title_length                     | 18                                                                                                                                                                                                                \n",
      " emailaddresstext                 | accelinflation@yahoo.com                                                                                                                                                                                          \n",
      " deleteexistingemail              | false                                                                                                                                                                                                             \n",
      "-RECORD 15--------------------------------------------------------------------------------------------------------------------------------------------------------------------------------------------------------------------------------------------\n",
      " applicationnumbertext            | 29466704                                                                                                                                                                                                          \n",
      " effectivefilingdate              | 1378785600                                                                                                                                                                                                        \n",
      " inventiontitle                   | Zoosotopes-Same Atomic Number But Different Elements for Elements 122, 123, 124 Subatomic Elements 122, 123, 124, Proton Based Elements 122, 123, 124                                                             \n",
      " applicationstatusdescriptiontext | Abandoned  --  Incomplete Application (Pre-examination)                                                                                                                                                           \n",
      " title_length                     | 149                                                                                                                                                                                                               \n",
      " emailaddresstext                 | accelinflation@yahoo.com                                                                                                                                                                                          \n",
      " deleteexistingemail              | false                                                                                                                                                                                                             \n",
      "-RECORD 16--------------------------------------------------------------------------------------------------------------------------------------------------------------------------------------------------------------------------------------------\n",
      " applicationnumbertext            | 29460081                                                                                                                                                                                                          \n",
      " effectivefilingdate              | 1373256000                                                                                                                                                                                                        \n",
      " inventiontitle                   | Vice Presidents Special Prosecutor Honeymoon Vacation                                                                                                                                                             \n",
      " applicationstatusdescriptiontext | Abandoned  --  Incomplete Application (Pre-examination)                                                                                                                                                           \n",
      " title_length                     | 53                                                                                                                                                                                                                \n",
      " emailaddresstext                 | accelinflation@yahoo.com                                                                                                                                                                                          \n",
      " deleteexistingemail              | false                                                                                                                                                                                                             \n",
      "-RECORD 17--------------------------------------------------------------------------------------------------------------------------------------------------------------------------------------------------------------------------------------------\n",
      " applicationnumbertext            | 29376675                                                                                                                                                                                                          \n",
      " effectivefilingdate              | 1286596800                                                                                                                                                                                                        \n",
      " inventiontitle                   | Automobile/bicycle                                                                                                                                                                                                \n",
      " applicationstatusdescriptiontext | Abandoned  --  Failure to Respond to an Office Action                                                                                                                                                             \n",
      " title_length                     | 18                                                                                                                                                                                                                \n",
      " emailaddresstext                 | accelinflation@yahoo.com                                                                                                                                                                                          \n",
      " deleteexistingemail              | false                                                                                                                                                                                                             \n",
      "-RECORD 18--------------------------------------------------------------------------------------------------------------------------------------------------------------------------------------------------------------------------------------------\n",
      " applicationnumbertext            | 29478226                                                                                                                                                                                                          \n",
      " effectivefilingdate              | 1388638800                                                                                                                                                                                                        \n",
      " inventiontitle                   | Purple Giant Stars, Purple Dwarf Stars,  Struck Chemical Globule, Strakalaitis Chemical Globule, Struck Chemical Globules, Strakalaitis Chemical Globules                                                         \n",
      " applicationstatusdescriptiontext | Abandoned  --  Incomplete Application (Pre-examination)                                                                                                                                                           \n",
      " title_length                     | 153                                                                                                                                                                                                               \n",
      " emailaddresstext                 | accelinflation@yahoo.com                                                                                                                                                                                          \n",
      " deleteexistingemail              | false                                                                                                                                                                                                             \n",
      "-RECORD 19--------------------------------------------------------------------------------------------------------------------------------------------------------------------------------------------------------------------------------------------\n",
      " applicationnumbertext            | 29472206                                                                                                                                                                                                          \n",
      " effectivefilingdate              | 1383973200                                                                                                                                                                                                        \n",
      " inventiontitle                   | Paper Cut Out Baby                                                                                                                                                                                                \n",
      " applicationstatusdescriptiontext | Abandoned  --  Incomplete Application (Pre-examination)                                                                                                                                                           \n",
      " title_length                     | 18                                                                                                                                                                                                                \n",
      " emailaddresstext                 | accelinflation@yahoo.com                                                                                                                                                                                          \n",
      " deleteexistingemail              | false                                                                                                                                                                                                             \n",
      "only showing top 20 rows\n",
      "\n"
     ]
    }
   ],
   "source": [
    "df_matched_emails.filter(col(\"emailaddresstext\").contains('accelinflation@yahoo.com')).show(truncate=False,vertical=True)"
   ]
  },
  {
   "cell_type": "code",
   "execution_count": 18,
   "metadata": {},
   "outputs": [
    {
     "name": "stdout",
     "output_type": "stream",
     "text": [
      "-RECORD 0-------------------------------------------------------------------------------------------------------------------------------------------------------------------------------------------------------------------------------------------------------------------------------------------------------------------------------------------------------------------------------------------------------------------------------------\n",
      " applicationnumbertext            | 29578319                                                                                                                                                                                                                                                                                                                                                                                                  \n",
      " effectivefilingdate              | 1474344000                                                                                                                                                                                                                                                                                                                                                                                                \n",
      " inventiontitle                   | AMPHIBIOUS VERTICAL TAKEOFF AND LANDING UNMANNED DEVICE NOZZLES, SAME AS NOZZLES OF AMPHIBIOUS VTOL, HOVER, BACKWARD, LEFTWARD, RIGHTWARD, TURBOJET, TURBOFAN, ROCKET ENGINE, RAMJET, PULSE JET, AFTERBURNER, SCRAMJET, AND DUCTED FAN                                                                                                                                                                    \n",
      " applicationstatusdescriptiontext | Abandoned  --  Failure to Respond to an Office Action                                                                                                                                                                                                                                                                                                                                                     \n",
      " title_length                     | 230                                                                                                                                                                                                                                                                                                                                                                                                       \n",
      " emailaddresstext                 | steven.a.nielsen@gmail.com                                                                                                                                                                                                                                                                                                                                                                                \n",
      " deleteexistingemail              | false                                                                                                                                                                                                                                                                                                                                                                                                     \n",
      "-RECORD 1-------------------------------------------------------------------------------------------------------------------------------------------------------------------------------------------------------------------------------------------------------------------------------------------------------------------------------------------------------------------------------------------------------------------------------------\n",
      " applicationnumbertext            | 63162746                                                                                                                                                                                                                                                                                                                                                                                                  \n",
      " effectivefilingdate              | 1616040000                                                                                                                                                                                                                                                                                                                                                                                                \n",
      " inventiontitle                   | Means and Methods for Staffing, Managing and Operating of Business Organizations                                                                                                                                                                                                                                                                                                                          \n",
      " applicationstatusdescriptiontext | Abandoned  --  Incomplete Application (Pre-examination)                                                                                                                                                                                                                                                                                                                                                   \n",
      " title_length                     | 80                                                                                                                                                                                                                                                                                                                                                                                                        \n",
      " emailaddresstext                 | steven.a.nielsen@gmail.com                                                                                                                                                                                                                                                                                                                                                                                \n",
      " deleteexistingemail              | false                                                                                                                                                                                                                                                                                                                                                                                                     \n",
      "-RECORD 2-------------------------------------------------------------------------------------------------------------------------------------------------------------------------------------------------------------------------------------------------------------------------------------------------------------------------------------------------------------------------------------------------------------------------------------\n",
      " applicationnumbertext            | 29589105                                                                                                                                                                                                                                                                                                                                                                                                  \n",
      " effectivefilingdate              | 1482901200                                                                                                                                                                                                                                                                                                                                                                                                \n",
      " inventiontitle                   | Dog Harness                                                                                                                                                                                                                                                                                                                                                                                               \n",
      " applicationstatusdescriptiontext | Abandoned  --  Failure to Respond to an Office Action                                                                                                                                                                                                                                                                                                                                                     \n",
      " title_length                     | 11                                                                                                                                                                                                                                                                                                                                                                                                        \n",
      " emailaddresstext                 | steven.a.nielsen@gmail.com                                                                                                                                                                                                                                                                                                                                                                                \n",
      " deleteexistingemail              | false                                                                                                                                                                                                                                                                                                                                                                                                     \n",
      "-RECORD 3-------------------------------------------------------------------------------------------------------------------------------------------------------------------------------------------------------------------------------------------------------------------------------------------------------------------------------------------------------------------------------------------------------------------------------------\n",
      " applicationnumbertext            | 29571900                                                                                                                                                                                                                                                                                                                                                                                                  \n",
      " effectivefilingdate              | 1469160000                                                                                                                                                                                                                                                                                                                                                                                                \n",
      " inventiontitle                   | Amphibious vtol, hover, backward, leftward, rightward, turbojet, turbofan, rocket engine, ramjet, pulse jet, afterburner, and scramjet all in one jet engine (fuel/electricity) with onboard self computer based autonomous gimbaled swivel propulsion (GSP) system device, same as Ducted Fan (fuel/electricity)                                                                                         \n",
      " applicationstatusdescriptiontext | Abandoned  --  Failure to Respond to an Office Action                                                                                                                                                                                                                                                                                                                                                     \n",
      " title_length                     | 305                                                                                                                                                                                                                                                                                                                                                                                                       \n",
      " emailaddresstext                 | steven.a.nielsen@gmail.com                                                                                                                                                                                                                                                                                                                                                                                \n",
      " deleteexistingemail              | false                                                                                                                                                                                                                                                                                                                                                                                                     \n",
      "-RECORD 4-------------------------------------------------------------------------------------------------------------------------------------------------------------------------------------------------------------------------------------------------------------------------------------------------------------------------------------------------------------------------------------------------------------------------------------\n",
      " applicationnumbertext            | 29467628                                                                                                                                                                                                                                                                                                                                                                                                  \n",
      " effectivefilingdate              | 1379649600                                                                                                                                                                                                                                                                                                                                                                                                \n",
      " inventiontitle                   | Casket                                                                                                                                                                                                                                                                                                                                                                                                    \n",
      " applicationstatusdescriptiontext | Abandoned  --  Incomplete Application (Pre-examination)                                                                                                                                                                                                                                                                                                                                                   \n",
      " title_length                     | 6                                                                                                                                                                                                                                                                                                                                                                                                         \n",
      " emailaddresstext                 | steven.a.nielsen@gmail.com                                                                                                                                                                                                                                                                                                                                                                                \n",
      " deleteexistingemail              | false                                                                                                                                                                                                                                                                                                                                                                                                     \n",
      "-RECORD 5-------------------------------------------------------------------------------------------------------------------------------------------------------------------------------------------------------------------------------------------------------------------------------------------------------------------------------------------------------------------------------------------------------------------------------------\n",
      " applicationnumbertext            | 29549028                                                                                                                                                                                                                                                                                                                                                                                                  \n",
      " effectivefilingdate              | 1450414800                                                                                                                                                                                                                                                                                                                                                                                                \n",
      " inventiontitle                   | Prophylactic Phone Cleaner                                                                                                                                                                                                                                                                                                                                                                                \n",
      " applicationstatusdescriptiontext | Abandoned  --  Failure to Respond to an Office Action                                                                                                                                                                                                                                                                                                                                                     \n",
      " title_length                     | 26                                                                                                                                                                                                                                                                                                                                                                                                        \n",
      " emailaddresstext                 | steven.a.nielsen@gmail.com                                                                                                                                                                                                                                                                                                                                                                                \n",
      " deleteexistingemail              | false                                                                                                                                                                                                                                                                                                                                                                                                     \n",
      "-RECORD 6-------------------------------------------------------------------------------------------------------------------------------------------------------------------------------------------------------------------------------------------------------------------------------------------------------------------------------------------------------------------------------------------------------------------------------------\n",
      " applicationnumbertext            | 29427725                                                                                                                                                                                                                                                                                                                                                                                                  \n",
      " effectivefilingdate              | 1342756800                                                                                                                                                                                                                                                                                                                                                                                                \n",
      " inventiontitle                   | Pair of Chopsticks                                                                                                                                                                                                                                                                                                                                                                                        \n",
      " applicationstatusdescriptiontext | Abandoned  --  Failure to Pay Issue Fee                                                                                                                                                                                                                                                                                                                                                                   \n",
      " title_length                     | 18                                                                                                                                                                                                                                                                                                                                                                                                        \n",
      " emailaddresstext                 | steven.a.nielsen@gmail.com                                                                                                                                                                                                                                                                                                                                                                                \n",
      " deleteexistingemail              | false                                                                                                                                                                                                                                                                                                                                                                                                     \n",
      "-RECORD 7-------------------------------------------------------------------------------------------------------------------------------------------------------------------------------------------------------------------------------------------------------------------------------------------------------------------------------------------------------------------------------------------------------------------------------------\n",
      " applicationnumbertext            | 29645678                                                                                                                                                                                                                                                                                                                                                                                                  \n",
      " effectivefilingdate              | 1524801600                                                                                                                                                                                                                                                                                                                                                                                                \n",
      " inventiontitle                   | LED Support Structure                                                                                                                                                                                                                                                                                                                                                                                     \n",
      " applicationstatusdescriptiontext | Abandoned  --  Incomplete Application (Pre-examination)                                                                                                                                                                                                                                                                                                                                                   \n",
      " title_length                     | 21                                                                                                                                                                                                                                                                                                                                                                                                        \n",
      " emailaddresstext                 | steven.a.nielsen@gmail.com                                                                                                                                                                                                                                                                                                                                                                                \n",
      " deleteexistingemail              | false                                                                                                                                                                                                                                                                                                                                                                                                     \n",
      "-RECORD 8-------------------------------------------------------------------------------------------------------------------------------------------------------------------------------------------------------------------------------------------------------------------------------------------------------------------------------------------------------------------------------------------------------------------------------------\n",
      " applicationnumbertext            | 29497651                                                                                                                                                                                                                                                                                                                                                                                                  \n",
      " effectivefilingdate              | 1406347200                                                                                                                                                                                                                                                                                                                                                                                                \n",
      " inventiontitle                   | Hand Rail                                                                                                                                                                                                                                                                                                                                                                                                 \n",
      " applicationstatusdescriptiontext | Abandoned  --  Failure to Pay Issue Fee                                                                                                                                                                                                                                                                                                                                                                   \n",
      " title_length                     | 9                                                                                                                                                                                                                                                                                                                                                                                                         \n",
      " emailaddresstext                 | steven.a.nielsen@gmail.com                                                                                                                                                                                                                                                                                                                                                                                \n",
      " deleteexistingemail              | false                                                                                                                                                                                                                                                                                                                                                                                                     \n",
      "-RECORD 9-------------------------------------------------------------------------------------------------------------------------------------------------------------------------------------------------------------------------------------------------------------------------------------------------------------------------------------------------------------------------------------------------------------------------------------\n",
      " applicationnumbertext            | 29385485                                                                                                                                                                                                                                                                                                                                                                                                  \n",
      " effectivefilingdate              | 1297746000                                                                                                                                                                                                                                                                                                                                                                                                \n",
      " inventiontitle                   | Carrying case for portable electronic devices                                                                                                                                                                                                                                                                                                                                                             \n",
      " applicationstatusdescriptiontext | Abandoned  --  Failure to Pay Issue Fee                                                                                                                                                                                                                                                                                                                                                                   \n",
      " title_length                     | 45                                                                                                                                                                                                                                                                                                                                                                                                        \n",
      " emailaddresstext                 | steven.a.nielsen@gmail.com                                                                                                                                                                                                                                                                                                                                                                                \n",
      " deleteexistingemail              | false                                                                                                                                                                                                                                                                                                                                                                                                     \n",
      "-RECORD 10------------------------------------------------------------------------------------------------------------------------------------------------------------------------------------------------------------------------------------------------------------------------------------------------------------------------------------------------------------------------------------------------------------------------------------\n",
      " applicationnumbertext            | 29582560                                                                                                                                                                                                                                                                                                                                                                                                  \n",
      " effectivefilingdate              | 1477627200                                                                                                                                                                                                                                                                                                                                                                                                \n",
      " inventiontitle                   | AMPHIBIOUS VERTICAL TAKEOFF AND LANDING UNMANNED DEVICE WITH DATA PROCESSING WEARABLE AND MOBILE APPLICATIONS ARTIFICIAL  INTELLIGENCE(AI) AUTONOMOUS APPARATUS, SAME AS VTOL JET DRONE, VTOL JET FLYING SKATEBOARD, VTOL FLYING JET SCOOTER, VTOL PERSONAL JET AIRCRAFT, AND JET/ELECTRIC GROUND SCOOTER ALL IN ONE (Fuel/electricity) WITH AI AUTOMATIC FOLD/EXTRACT WINGS AND REAR WING AS CAR SPOILER \n",
      " applicationstatusdescriptiontext | Abandoned  --  Failure to Respond to an Office Action                                                                                                                                                                                                                                                                                                                                                     \n",
      " title_length                     | 393                                                                                                                                                                                                                                                                                                                                                                                                       \n",
      " emailaddresstext                 | steven.a.nielsen@gmail.com                                                                                                                                                                                                                                                                                                                                                                                \n",
      " deleteexistingemail              | false                                                                                                                                                                                                                                                                                                                                                                                                     \n",
      "-RECORD 11------------------------------------------------------------------------------------------------------------------------------------------------------------------------------------------------------------------------------------------------------------------------------------------------------------------------------------------------------------------------------------------------------------------------------------\n",
      " applicationnumbertext            | 29656421                                                                                                                                                                                                                                                                                                                                                                                                  \n",
      " effectivefilingdate              | 1531368000                                                                                                                                                                                                                                                                                                                                                                                                \n",
      " inventiontitle                   | Hand Crank Power Generator                                                                                                                                                                                                                                                                                                                                                                                \n",
      " applicationstatusdescriptiontext | Abandoned  --  Failure to Pay Issue Fee                                                                                                                                                                                                                                                                                                                                                                   \n",
      " title_length                     | 26                                                                                                                                                                                                                                                                                                                                                                                                        \n",
      " emailaddresstext                 | steven.a.nielsen@gmail.com                                                                                                                                                                                                                                                                                                                                                                                \n",
      " deleteexistingemail              | false                                                                                                                                                                                                                                                                                                                                                                                                     \n",
      "-RECORD 12------------------------------------------------------------------------------------------------------------------------------------------------------------------------------------------------------------------------------------------------------------------------------------------------------------------------------------------------------------------------------------------------------------------------------------\n",
      " applicationnumbertext            | 29467684                                                                                                                                                                                                                                                                                                                                                                                                  \n",
      " effectivefilingdate              | 1379736000                                                                                                                                                                                                                                                                                                                                                                                                \n",
      " inventiontitle                   | Transparent Shoe Pocket                                                                                                                                                                                                                                                                                                                                                                                   \n",
      " applicationstatusdescriptiontext | Abandoned  --  Failure to Respond to an Office Action                                                                                                                                                                                                                                                                                                                                                     \n",
      " title_length                     | 23                                                                                                                                                                                                                                                                                                                                                                                                        \n",
      " emailaddresstext                 | steven.a.nielsen@gmail.com                                                                                                                                                                                                                                                                                                                                                                                \n",
      " deleteexistingemail              | false                                                                                                                                                                                                                                                                                                                                                                                                     \n",
      "-RECORD 13------------------------------------------------------------------------------------------------------------------------------------------------------------------------------------------------------------------------------------------------------------------------------------------------------------------------------------------------------------------------------------------------------------------------------------\n",
      " applicationnumbertext            | 29441714                                                                                                                                                                                                                                                                                                                                                                                                  \n",
      " effectivefilingdate              | 1357707600                                                                                                                                                                                                                                                                                                                                                                                                \n",
      " inventiontitle                   | High Top Shoe                                                                                                                                                                                                                                                                                                                                                                                             \n",
      " applicationstatusdescriptiontext | Abandoned  --  Failure to Respond to an Office Action                                                                                                                                                                                                                                                                                                                                                     \n",
      " title_length                     | 13                                                                                                                                                                                                                                                                                                                                                                                                        \n",
      " emailaddresstext                 | steven.a.nielsen@gmail.com                                                                                                                                                                                                                                                                                                                                                                                \n",
      " deleteexistingemail              | false                                                                                                                                                                                                                                                                                                                                                                                                     \n",
      "-RECORD 14------------------------------------------------------------------------------------------------------------------------------------------------------------------------------------------------------------------------------------------------------------------------------------------------------------------------------------------------------------------------------------------------------------------------------------\n",
      " applicationnumbertext            | 29416340                                                                                                                                                                                                                                                                                                                                                                                                  \n",
      " effectivefilingdate              | 1332302400                                                                                                                                                                                                                                                                                                                                                                                                \n",
      " inventiontitle                   | Folding Sport Practice Net                                                                                                                                                                                                                                                                                                                                                                                \n",
      " applicationstatusdescriptiontext | Abandoned  --  Failure to Respond to an Office Action                                                                                                                                                                                                                                                                                                                                                     \n",
      " title_length                     | 26                                                                                                                                                                                                                                                                                                                                                                                                        \n",
      " emailaddresstext                 | steven.a.nielsen@gmail.com                                                                                                                                                                                                                                                                                                                                                                                \n",
      " deleteexistingemail              | false                                                                                                                                                                                                                                                                                                                                                                                                     \n",
      "-RECORD 15------------------------------------------------------------------------------------------------------------------------------------------------------------------------------------------------------------------------------------------------------------------------------------------------------------------------------------------------------------------------------------------------------------------------------------\n",
      " applicationnumbertext            | 29570198                                                                                                                                                                                                                                                                                                                                                                                                  \n",
      " effectivefilingdate              | 1467777600                                                                                                                                                                                                                                                                                                                                                                                                \n",
      " inventiontitle                   | Amphibious svtol / vtol unmanned system data processing device with mobile and wearable application, jet flying ship (ship and aircraft combined supersonic eagle) with foldable wings, ship decks and built-in parachutes                                                                                                                                                                                \n",
      " applicationstatusdescriptiontext | Abandoned  --  Failure to Respond to an Office Action                                                                                                                                                                                                                                                                                                                                                     \n",
      " title_length                     | 218                                                                                                                                                                                                                                                                                                                                                                                                       \n",
      " emailaddresstext                 | steven.a.nielsen@gmail.com                                                                                                                                                                                                                                                                                                                                                                                \n",
      " deleteexistingemail              | false                                                                                                                                                                                                                                                                                                                                                                                                     \n",
      "-RECORD 16------------------------------------------------------------------------------------------------------------------------------------------------------------------------------------------------------------------------------------------------------------------------------------------------------------------------------------------------------------------------------------------------------------------------------------\n",
      " applicationnumbertext            | 29615562                                                                                                                                                                                                                                                                                                                                                                                                  \n",
      " effectivefilingdate              | 1504065600                                                                                                                                                                                                                                                                                                                                                                                                \n",
      " inventiontitle                   | Fence                                                                                                                                                                                                                                                                                                                                                                                                     \n",
      " applicationstatusdescriptiontext | Abandoned  --  Failure to Respond to an Office Action                                                                                                                                                                                                                                                                                                                                                     \n",
      " title_length                     | 5                                                                                                                                                                                                                                                                                                                                                                                                         \n",
      " emailaddresstext                 | steven.a.nielsen@gmail.com                                                                                                                                                                                                                                                                                                                                                                                \n",
      " deleteexistingemail              | false                                                                                                                                                                                                                                                                                                                                                                                                     \n",
      "-RECORD 17------------------------------------------------------------------------------------------------------------------------------------------------------------------------------------------------------------------------------------------------------------------------------------------------------------------------------------------------------------------------------------------------------------------------------------\n",
      " applicationnumbertext            | 29565653                                                                                                                                                                                                                                                                                                                                                                                                  \n",
      " effectivefilingdate              | 1463976000                                                                                                                                                                                                                                                                                                                                                                                                \n",
      " inventiontitle                   | AMPHIBIOUS VTOL FOLDING SUPER DRONE CAMERA AND DELIVERY DRONE                                                                                                                                                                                                                                                                                                                                             \n",
      " applicationstatusdescriptiontext | Abandoned  --  Failure to Respond to an Office Action                                                                                                                                                                                                                                                                                                                                                     \n",
      " title_length                     | 61                                                                                                                                                                                                                                                                                                                                                                                                        \n",
      " emailaddresstext                 | steven.a.nielsen@gmail.com                                                                                                                                                                                                                                                                                                                                                                                \n",
      " deleteexistingemail              | false                                                                                                                                                                                                                                                                                                                                                                                                     \n",
      "-RECORD 18------------------------------------------------------------------------------------------------------------------------------------------------------------------------------------------------------------------------------------------------------------------------------------------------------------------------------------------------------------------------------------------------------------------------------------\n",
      " applicationnumbertext            | 29359106                                                                                                                                                                                                                                                                                                                                                                                                  \n",
      " effectivefilingdate              | 1270526400                                                                                                                                                                                                                                                                                                                                                                                                \n",
      " inventiontitle                   | Pants                                                                                                                                                                                                                                                                                                                                                                                                     \n",
      " applicationstatusdescriptiontext | Abandoned  --  Failure to Respond to an Office Action                                                                                                                                                                                                                                                                                                                                                     \n",
      " title_length                     | 5                                                                                                                                                                                                                                                                                                                                                                                                         \n",
      " emailaddresstext                 | steven.a.nielsen@gmail.com                                                                                                                                                                                                                                                                                                                                                                                \n",
      " deleteexistingemail              | false                                                                                                                                                                                                                                                                                                                                                                                                     \n",
      "-RECORD 19------------------------------------------------------------------------------------------------------------------------------------------------------------------------------------------------------------------------------------------------------------------------------------------------------------------------------------------------------------------------------------------------------------------------------------\n",
      " applicationnumbertext            | 29561630                                                                                                                                                                                                                                                                                                                                                                                                  \n",
      " effectivefilingdate              | 1460952000                                                                                                                                                                                                                                                                                                                                                                                                \n",
      " inventiontitle                   | Interchangeable Decoration Holder for Toilet Paper Fixture                                                                                                                                                                                                                                                                                                                                                \n",
      " applicationstatusdescriptiontext | Abandoned  --  Failure to Respond to an Office Action                                                                                                                                                                                                                                                                                                                                                     \n",
      " title_length                     | 58                                                                                                                                                                                                                                                                                                                                                                                                        \n",
      " emailaddresstext                 | steven.a.nielsen@gmail.com                                                                                                                                                                                                                                                                                                                                                                                \n",
      " deleteexistingemail              | false                                                                                                                                                                                                                                                                                                                                                                                                     \n",
      "only showing top 20 rows\n",
      "\n"
     ]
    }
   ],
   "source": [
    "df_matched_emails.filter(col(\"emailaddresstext\").contains('steven.a.nielsen@gmail.com')).show(truncate=False,vertical=True) "
   ]
  },
  {
   "cell_type": "code",
   "execution_count": 19,
   "metadata": {},
   "outputs": [
    {
     "name": "stdout",
     "output_type": "stream",
     "text": [
      "-RECORD 0--------------------------------------------------------------------------------------------------------------------------------------------------------------------------------------------------------------------------------------------------------------------------------------------------------------------------------------------------------------------------------\n",
      " applicationnumbertext            | 63256568                                                                                                                                                                                                                                                                                                                                             \n",
      " effectivefilingdate              | 1634356800                                                                                                                                                                                                                                                                                                                                           \n",
      " inventiontitle                   | Noise maker                                                                                                                                                                                                                                                                                                                                          \n",
      " applicationstatusdescriptiontext | Abandoned  --  Incomplete Application (Pre-examination)                                                                                                                                                                                                                                                                                              \n",
      " title_length                     | 11                                                                                                                                                                                                                                                                                                                                                   \n",
      " emailaddresstext                 | lindblad2716@aol.com                                                                                                                                                                                                                                                                                                                                 \n",
      " deleteexistingemail              | false                                                                                                                                                                                                                                                                                                                                                \n",
      "-RECORD 1--------------------------------------------------------------------------------------------------------------------------------------------------------------------------------------------------------------------------------------------------------------------------------------------------------------------------------------------------------------------------------\n",
      " applicationnumbertext            | 63233671                                                                                                                                                                                                                                                                                                                                             \n",
      " effectivefilingdate              | 1629086400                                                                                                                                                                                                                                                                                                                                           \n",
      " inventiontitle                   | Remote viewing connectivity to media, telecommunications, telegraphy, internet, and all domains.                                                                                                                                                                                                                                                     \n",
      " applicationstatusdescriptiontext | Abandoned  --  Incomplete Application (Pre-examination)                                                                                                                                                                                                                                                                                              \n",
      " title_length                     | 96                                                                                                                                                                                                                                                                                                                                                   \n",
      " emailaddresstext                 | lindblad2716@aol.com                                                                                                                                                                                                                                                                                                                                 \n",
      " deleteexistingemail              | false                                                                                                                                                                                                                                                                                                                                                \n",
      "-RECORD 2--------------------------------------------------------------------------------------------------------------------------------------------------------------------------------------------------------------------------------------------------------------------------------------------------------------------------------------------------------------------------------\n",
      " applicationnumbertext            | 63289301                                                                                                                                                                                                                                                                                                                                             \n",
      " effectivefilingdate              | 1639458000                                                                                                                                                                                                                                                                                                                                           \n",
      " inventiontitle                   | Spy jewelry with audio and/or visual surveillance. Body and ankle garments with hair products considered jewelry.                                                                                                                                                                                                                                    \n",
      " applicationstatusdescriptiontext | Abandoned  --  Incomplete Application (Pre-examination)                                                                                                                                                                                                                                                                                              \n",
      " title_length                     | 113                                                                                                                                                                                                                                                                                                                                                  \n",
      " emailaddresstext                 | lindblad2716@aol.com                                                                                                                                                                                                                                                                                                                                 \n",
      " deleteexistingemail              | false                                                                                                                                                                                                                                                                                                                                                \n",
      "-RECORD 3--------------------------------------------------------------------------------------------------------------------------------------------------------------------------------------------------------------------------------------------------------------------------------------------------------------------------------------------------------------------------------\n",
      " applicationnumbertext            | 63287827                                                                                                                                                                                                                                                                                                                                             \n",
      " effectivefilingdate              | 1639026000                                                                                                                                                                                                                                                                                                                                           \n",
      " inventiontitle                   | Mining of magma from the core of the Earth                                                                                                                                                                                                                                                                                                           \n",
      " applicationstatusdescriptiontext | Abandoned  --  Incomplete Application (Pre-examination)                                                                                                                                                                                                                                                                                              \n",
      " title_length                     | 42                                                                                                                                                                                                                                                                                                                                                   \n",
      " emailaddresstext                 | lindblad2716@aol.com                                                                                                                                                                                                                                                                                                                                 \n",
      " deleteexistingemail              | false                                                                                                                                                                                                                                                                                                                                                \n",
      "-RECORD 4--------------------------------------------------------------------------------------------------------------------------------------------------------------------------------------------------------------------------------------------------------------------------------------------------------------------------------------------------------------------------------\n",
      " applicationnumbertext            | 29818945                                                                                                                                                                                                                                                                                                                                             \n",
      " effectivefilingdate              | 1639198800                                                                                                                                                                                                                                                                                                                                           \n",
      " inventiontitle                   | Human body clones and mineral, mining, and synthetic hardware included for eternal and reincarnation life for the human and animal species                                                                                                                                                                                                           \n",
      " applicationstatusdescriptiontext | Abandoned  --  Incomplete Application (Pre-examination)                                                                                                                                                                                                                                                                                              \n",
      " title_length                     | 138                                                                                                                                                                                                                                                                                                                                                  \n",
      " emailaddresstext                 | lindblad2716@aol.com                                                                                                                                                                                                                                                                                                                                 \n",
      " deleteexistingemail              | false                                                                                                                                                                                                                                                                                                                                                \n",
      "-RECORD 5--------------------------------------------------------------------------------------------------------------------------------------------------------------------------------------------------------------------------------------------------------------------------------------------------------------------------------------------------------------------------------\n",
      " applicationnumbertext            | 29819161                                                                                                                                                                                                                                                                                                                                             \n",
      " effectivefilingdate              | 1639371600                                                                                                                                                                                                                                                                                                                                           \n",
      " inventiontitle                   | Unknown                                                                                                                                                                                                                                                                                                                                              \n",
      " applicationstatusdescriptiontext | Abandoned  --  Incomplete Application (Pre-examination)                                                                                                                                                                                                                                                                                              \n",
      " title_length                     | 7                                                                                                                                                                                                                                                                                                                                                    \n",
      " emailaddresstext                 | lindblad2716@aol.com                                                                                                                                                                                                                                                                                                                                 \n",
      " deleteexistingemail              | false                                                                                                                                                                                                                                                                                                                                                \n",
      "-RECORD 6--------------------------------------------------------------------------------------------------------------------------------------------------------------------------------------------------------------------------------------------------------------------------------------------------------------------------------------------------------------------------------\n",
      " applicationnumbertext            | 63238638                                                                                                                                                                                                                                                                                                                                             \n",
      " effectivefilingdate              | 1630296000                                                                                                                                                                                                                                                                                                                                           \n",
      " inventiontitle                   | Identification system through limited system that place a layer over iris, finger,and face identifications to skew records that  administration uses to frustrate breaches in the system. Abstract augmentations are employed to ensure secure methods of identification of individuals and domains personalized to each human that has access.      \n",
      " applicationstatusdescriptiontext | Abandoned  --  Incomplete Application (Pre-examination)                                                                                                                                                                                                                                                                                              \n",
      " title_length                     | 335                                                                                                                                                                                                                                                                                                                                                  \n",
      " emailaddresstext                 | lindblad2716@aol.com                                                                                                                                                                                                                                                                                                                                 \n",
      " deleteexistingemail              | false                                                                                                                                                                                                                                                                                                                                                \n",
      "-RECORD 7--------------------------------------------------------------------------------------------------------------------------------------------------------------------------------------------------------------------------------------------------------------------------------------------------------------------------------------------------------------------------------\n",
      " applicationnumbertext            | 63275286                                                                                                                                                                                                                                                                                                                                             \n",
      " effectivefilingdate              | 1635912000                                                                                                                                                                                                                                                                                                                                           \n",
      " inventiontitle                   | Paper made from synthetic or other materials other than tree fibers.                                                                                                                                                                                                                                                                                 \n",
      " applicationstatusdescriptiontext | Abandoned  --  Incomplete Application (Pre-examination)                                                                                                                                                                                                                                                                                              \n",
      " title_length                     | 68                                                                                                                                                                                                                                                                                                                                                   \n",
      " emailaddresstext                 | lindblad2716@aol.com                                                                                                                                                                                                                                                                                                                                 \n",
      " deleteexistingemail              | false                                                                                                                                                                                                                                                                                                                                                \n",
      "-RECORD 8--------------------------------------------------------------------------------------------------------------------------------------------------------------------------------------------------------------------------------------------------------------------------------------------------------------------------------------------------------------------------------\n",
      " applicationnumbertext            | 29821193                                                                                                                                                                                                                                                                                                                                             \n",
      " effectivefilingdate              | 1640667600                                                                                                                                                                                                                                                                                                                                           \n",
      " inventiontitle                   | Echo-plex mega-stadium                                                                                                                                                                                                                                                                                                                               \n",
      " applicationstatusdescriptiontext | Abandoned  --  Incomplete Application (Pre-examination)                                                                                                                                                                                                                                                                                              \n",
      " title_length                     | 22                                                                                                                                                                                                                                                                                                                                                   \n",
      " emailaddresstext                 | lindblad2716@aol.com                                                                                                                                                                                                                                                                                                                                 \n",
      " deleteexistingemail              | false                                                                                                                                                                                                                                                                                                                                                \n",
      "-RECORD 9--------------------------------------------------------------------------------------------------------------------------------------------------------------------------------------------------------------------------------------------------------------------------------------------------------------------------------------------------------------------------------\n",
      " applicationnumbertext            | 63236878                                                                                                                                                                                                                                                                                                                                             \n",
      " effectivefilingdate              | 1629864000                                                                                                                                                                                                                                                                                                                                           \n",
      " inventiontitle                   | Heaven using various electric and wave means to allow human memory to be transferrable to pathways of gaming and applicable/eventual tissue or other metal resources for life after death or simultaneously virtual                                                                                                                                  \n",
      " applicationstatusdescriptiontext | Abandoned  --  Incomplete Application (Pre-examination)                                                                                                                                                                                                                                                                                              \n",
      " title_length                     | 211                                                                                                                                                                                                                                                                                                                                                  \n",
      " emailaddresstext                 | lindblad2716@aol.com                                                                                                                                                                                                                                                                                                                                 \n",
      " deleteexistingemail              | false                                                                                                                                                                                                                                                                                                                                                \n",
      "-RECORD 10-------------------------------------------------------------------------------------------------------------------------------------------------------------------------------------------------------------------------------------------------------------------------------------------------------------------------------------------------------------------------------\n",
      " applicationnumbertext            | 29811781                                                                                                                                                                                                                                                                                                                                             \n",
      " effectivefilingdate              | 1634356800                                                                                                                                                                                                                                                                                                                                           \n",
      " inventiontitle                   | Ray gun. Capable of having no interference in travel. short-long range.                                                                                                                                                                                                                                                                              \n",
      " applicationstatusdescriptiontext | Abandoned  --  Incomplete Application (Pre-examination)                                                                                                                                                                                                                                                                                              \n",
      " title_length                     | 71                                                                                                                                                                                                                                                                                                                                                   \n",
      " emailaddresstext                 | lindblad2716@aol.com                                                                                                                                                                                                                                                                                                                                 \n",
      " deleteexistingemail              | false                                                                                                                                                                                                                                                                                                                                                \n",
      "-RECORD 11-------------------------------------------------------------------------------------------------------------------------------------------------------------------------------------------------------------------------------------------------------------------------------------------------------------------------------------------------------------------------------\n",
      " applicationnumbertext            | 29819279                                                                                                                                                                                                                                                                                                                                             \n",
      " effectivefilingdate              | 1639458000                                                                                                                                                                                                                                                                                                                                           \n",
      " inventiontitle                   | Deep oil and magma drilling similar to the cornerstone watershed atlantic cable previously untapped                                                                                                                                                                                                                                                  \n",
      " applicationstatusdescriptiontext | Abandoned  --  Incomplete Application (Pre-examination)                                                                                                                                                                                                                                                                                              \n",
      " title_length                     | 99                                                                                                                                                                                                                                                                                                                                                   \n",
      " emailaddresstext                 | lindblad2716@aol.com                                                                                                                                                                                                                                                                                                                                 \n",
      " deleteexistingemail              | false                                                                                                                                                                                                                                                                                                                                                \n",
      "-RECORD 12-------------------------------------------------------------------------------------------------------------------------------------------------------------------------------------------------------------------------------------------------------------------------------------------------------------------------------------------------------------------------------\n",
      " applicationnumbertext            | 29820514                                                                                                                                                                                                                                                                                                                                             \n",
      " effectivefilingdate              | 1640149200                                                                                                                                                                                                                                                                                                                                           \n",
      " inventiontitle                   | Seasonal Earth Life                                                                                                                                                                                                                                                                                                                                  \n",
      " applicationstatusdescriptiontext | Abandoned  --  Incomplete Application (Pre-examination)                                                                                                                                                                                                                                                                                              \n",
      " title_length                     | 19                                                                                                                                                                                                                                                                                                                                                   \n",
      " emailaddresstext                 | lindblad2716@aol.com                                                                                                                                                                                                                                                                                                                                 \n",
      " deleteexistingemail              | false                                                                                                                                                                                                                                                                                                                                                \n",
      "-RECORD 13-------------------------------------------------------------------------------------------------------------------------------------------------------------------------------------------------------------------------------------------------------------------------------------------------------------------------------------------------------------------------------\n",
      " applicationnumbertext            | 63289320                                                                                                                                                                                                                                                                                                                                             \n",
      " effectivefilingdate              | 1639458000                                                                                                                                                                                                                                                                                                                                           \n",
      " inventiontitle                   | Chemical-bio transference to any universal destination                                                                                                                                                                                                                                                                                               \n",
      " applicationstatusdescriptiontext | Abandoned  --  Incomplete Application (Pre-examination)                                                                                                                                                                                                                                                                                              \n",
      " title_length                     | 54                                                                                                                                                                                                                                                                                                                                                   \n",
      " emailaddresstext                 | lindblad2716@aol.com                                                                                                                                                                                                                                                                                                                                 \n",
      " deleteexistingemail              | false                                                                                                                                                                                                                                                                                                                                                \n",
      "-RECORD 14-------------------------------------------------------------------------------------------------------------------------------------------------------------------------------------------------------------------------------------------------------------------------------------------------------------------------------------------------------------------------------\n",
      " applicationnumbertext            | 29810891                                                                                                                                                                                                                                                                                                                                             \n",
      " effectivefilingdate              | 1633665600                                                                                                                                                                                                                                                                                                                                           \n",
      " inventiontitle                   | Long range and short range drill bore and pipe with options and extensions of laser integration in the contours of the piping to come to the inner section by mechanical processes and laser beam any rocks or interference material that would clog or obstruct the path of the oil-drilling operations. Can also be used in space flight jets ect. \n",
      " applicationstatusdescriptiontext | Abandoned  --  Incomplete Application (Pre-examination)                                                                                                                                                                                                                                                                                              \n",
      " title_length                     | 340                                                                                                                                                                                                                                                                                                                                                  \n",
      " emailaddresstext                 | lindblad2716@aol.com                                                                                                                                                                                                                                                                                                                                 \n",
      " deleteexistingemail              | false                                                                                                                                                                                                                                                                                                                                                \n",
      "-RECORD 15-------------------------------------------------------------------------------------------------------------------------------------------------------------------------------------------------------------------------------------------------------------------------------------------------------------------------------------------------------------------------------\n",
      " applicationnumbertext            | 63256090                                                                                                                                                                                                                                                                                                                                             \n",
      " effectivefilingdate              | 1634270400                                                                                                                                                                                                                                                                                                                                           \n",
      " inventiontitle                   | Extendable scope rotatable                                                                                                                                                                                                                                                                                                                           \n",
      " applicationstatusdescriptiontext | Abandoned  --  Incomplete Application (Pre-examination)                                                                                                                                                                                                                                                                                              \n",
      " title_length                     | 26                                                                                                                                                                                                                                                                                                                                                   \n",
      " emailaddresstext                 | lindblad2716@aol.com                                                                                                                                                                                                                                                                                                                                 \n",
      " deleteexistingemail              | false                                                                                                                                                                                                                                                                                                                                                \n",
      "-RECORD 16-------------------------------------------------------------------------------------------------------------------------------------------------------------------------------------------------------------------------------------------------------------------------------------------------------------------------------------------------------------------------------\n",
      " applicationnumbertext            | 29809119                                                                                                                                                                                                                                                                                                                                             \n",
      " effectivefilingdate              | 1632542400                                                                                                                                                                                                                                                                                                                                           \n",
      " inventiontitle                   | Concrete mixed with heat and hardener to make longevity in concrete structures and durability long-term                                                                                                                                                                                                                                              \n",
      " applicationstatusdescriptiontext | Abandoned  --  Incomplete Application (Pre-examination)                                                                                                                                                                                                                                                                                              \n",
      " title_length                     | 103                                                                                                                                                                                                                                                                                                                                                  \n",
      " emailaddresstext                 | lindblad2716@aol.com                                                                                                                                                                                                                                                                                                                                 \n",
      " deleteexistingemail              | false                                                                                                                                                                                                                                                                                                                                                \n",
      "-RECORD 17-------------------------------------------------------------------------------------------------------------------------------------------------------------------------------------------------------------------------------------------------------------------------------------------------------------------------------------------------------------------------------\n",
      " applicationnumbertext            | 29819175                                                                                                                                                                                                                                                                                                                                             \n",
      " effectivefilingdate              | 1639371600                                                                                                                                                                                                                                                                                                                                           \n",
      " inventiontitle                   | Ancient and Medieval Wardrobe                                                                                                                                                                                                                                                                                                                        \n",
      " applicationstatusdescriptiontext | Abandoned  --  Incomplete Application (Pre-examination)                                                                                                                                                                                                                                                                                              \n",
      " title_length                     | 29                                                                                                                                                                                                                                                                                                                                                   \n",
      " emailaddresstext                 | lindblad2716@aol.com                                                                                                                                                                                                                                                                                                                                 \n",
      " deleteexistingemail              | false                                                                                                                                                                                                                                                                                                                                                \n",
      "-RECORD 18-------------------------------------------------------------------------------------------------------------------------------------------------------------------------------------------------------------------------------------------------------------------------------------------------------------------------------------------------------------------------------\n",
      " applicationnumbertext            | 63239217                                                                                                                                                                                                                                                                                                                                             \n",
      " effectivefilingdate              | 1630382400                                                                                                                                                                                                                                                                                                                                           \n",
      " inventiontitle                   | Untitled                                                                                                                                                                                                                                                                                                                                             \n",
      " applicationstatusdescriptiontext | Abandoned  --  Incomplete Application (Pre-examination)                                                                                                                                                                                                                                                                                              \n",
      " title_length                     | 8                                                                                                                                                                                                                                                                                                                                                    \n",
      " emailaddresstext                 | lindblad2716@aol.com                                                                                                                                                                                                                                                                                                                                 \n",
      " deleteexistingemail              | false                                                                                                                                                                                                                                                                                                                                                \n",
      "-RECORD 19-------------------------------------------------------------------------------------------------------------------------------------------------------------------------------------------------------------------------------------------------------------------------------------------------------------------------------------------------------------------------------\n",
      " applicationnumbertext            | 29821064                                                                                                                                                                                                                                                                                                                                             \n",
      " effectivefilingdate              | 1640581200                                                                                                                                                                                                                                                                                                                                           \n",
      " inventiontitle                   | TV and radio live feed face cams and communication through ear piece or device. Communicate during programming. View of participants of programming optional.                                                                                                                                                                                        \n",
      " applicationstatusdescriptiontext | Abandoned  --  Incomplete Application (Pre-examination)                                                                                                                                                                                                                                                                                              \n",
      " title_length                     | 157                                                                                                                                                                                                                                                                                                                                                  \n",
      " emailaddresstext                 | lindblad2716@aol.com                                                                                                                                                                                                                                                                                                                                 \n",
      " deleteexistingemail              | false                                                                                                                                                                                                                                                                                                                                                \n",
      "only showing top 20 rows\n",
      "\n"
     ]
    }
   ],
   "source": [
    "df_matched_emails.filter(col(\"emailaddresstext\").contains('lindblad2716@aol.com')).show(truncate=False,vertical=True) "
   ]
  },
  {
   "cell_type": "code",
   "execution_count": 20,
   "metadata": {},
   "outputs": [
    {
     "name": "stdout",
     "output_type": "stream",
     "text": [
      "-RECORD 0----------------------------------------------------------------------------------------------------------------------------------------------------------------------------------------------------------------------------------------------------------------------------------------------------------------------------------------------------------------------------------------------------------------------------------------------------------------------------------------------------------------------------------------------------------------------------------------------------------------------------------------------------\n",
      " applicationnumbertext            | 63191359                                                                                                                                                                                                                                                                                                                                                                                                                                                                                                                                                                                                                 \n",
      " effectivefilingdate              | 1621569600                                                                                                                                                                                                                                                                                                                                                                                                                                                                                                                                                                                                               \n",
      " inventiontitle                   | Blockchain Privacy. Due diligence tool which investigates, audits, analyses and quantifies the privacy risk in technologies deploying blockchain and distributed ledger technology. The invention incorporates global privacy laws, as well as laws which have a bearing on privacy rights such as human rights, employment laws, etc.   The invention assumes that users do not know anything about privacy law.  At each step of the invention, users are asked a series of complex questions to determine the correct answer.  Users don’t need to know anything about any privacy law: the invention does all the wo \n",
      " applicationstatusdescriptiontext | Abandoned  --  Incomplete Application (Pre-examination)                                                                                                                                                                                                                                                                                                                                                                                                                                                                                                                                                                  \n",
      " title_length                     | 600                                                                                                                                                                                                                                                                                                                                                                                                                                                                                                                                                                                                                      \n",
      " emailaddresstext                 | costelloash4@outlook.com                                                                                                                                                                                                                                                                                                                                                                                                                                                                                                                                                                                                 \n",
      " deleteexistingemail              | false                                                                                                                                                                                                                                                                                                                                                                                                                                                                                                                                                                                                                    \n",
      "\n"
     ]
    }
   ],
   "source": [
    "df_matched_emails.filter(col(\"emailaddresstext\").contains(\"costelloash4@outlook.com\")).show(truncate=False,vertical=True)"
   ]
  },
  {
   "cell_type": "code",
   "execution_count": null,
   "metadata": {},
   "outputs": [],
   "source": []
  },
  {
   "cell_type": "code",
   "execution_count": null,
   "metadata": {},
   "outputs": [],
   "source": []
  },
  {
   "cell_type": "code",
   "execution_count": 21,
   "metadata": {},
   "outputs": [
    {
     "name": "stdout",
     "output_type": "stream",
     "text": [
      "+---------------------------------+-----+\n",
      "|emailaddresstext                 |count|\n",
      "+---------------------------------+-----+\n",
      "|eofficeaction@appcoll.com        |2746 |\n",
      "|USPTO@dockettrak.com             |2408 |\n",
      "|XOXOAB@YAHOO.COM                 |1406 |\n",
      "|uspto@dockettrak.com             |826  |\n",
      "|eofficeaction@bannerwitcoff.com  |824  |\n",
      "|efiling@knobbe.com               |708  |\n",
      "|jayna.cartee@knobbe.com          |705  |\n",
      "|GPD@bannerwitcoff.com            |671  |\n",
      "|centraldocket.im@pg.com          |597  |\n",
      "|pair_pg@firsttofile.com          |597  |\n",
      "|mayer.jk@pg.com                  |597  |\n",
      "|pair_nixon@firsttofile.com       |571  |\n",
      "|nike_docketing@cardinal-ip.com   |568  |\n",
      "|x@xyztem.com                     |545  |\n",
      "|MAILROOM@MG-IP.COM               |529  |\n",
      "|e-office@sternekessler.com       |521  |\n",
      "|realsuheepark@gmail.com          |521  |\n",
      "|pair@jumpy-ip.com                |500  |\n",
      "|56029@QUICKPATENTS.COM           |494  |\n",
      "|patents@dbllawyers.com           |489  |\n",
      "|pair@sinorica.com                |462  |\n",
      "|SINORICA@GMAIL.COM               |462  |\n",
      "|sinorica@outlook.com             |462  |\n",
      "|usptopatentmail@cantorcolburn.com|460  |\n",
      "|IPDocketing@wbd-us.com           |453  |\n",
      "|USPTO@sughrue.com                |437  |\n",
      "|PPROCESSING@SUGHRUE.COM          |436  |\n",
      "|ptoactions@yahoo.com             |431  |\n",
      "|ptoactions@rklpatlaw.com         |431  |\n",
      "|INFO@WANDKIP.COM                 |424  |\n",
      "|eoa-cbd@scienbizip.com           |417  |\n",
      "|PTO-125760@bannerwitcoff.com     |417  |\n",
      "|eoa-procc@scienbizippc.com       |417  |\n",
      "|eoa-proce@scienbizip.com         |417  |\n",
      "|Stillrolling25@gmail.com         |414  |\n",
      "+---------------------------------+-----+\n",
      "only showing top 35 rows\n",
      "\n"
     ]
    }
   ],
   "source": [
    "df_matched_emails.groupby(\"emailaddresstext\").count().sort(desc(\"count\")).show(n=35,truncate=False)\n",
    "\n"
   ]
  },
  {
   "cell_type": "markdown",
   "metadata": {},
   "source": [
    "<h4> Matching email address against the length of invention title"
   ]
  },
  {
   "cell_type": "code",
   "execution_count": null,
   "metadata": {},
   "outputs": [],
   "source": []
  },
  {
   "cell_type": "markdown",
   "metadata": {},
   "source": [
    "<h4> Looking at the low number of applicaitons"
   ]
  },
  {
   "cell_type": "code",
   "execution_count": null,
   "metadata": {},
   "outputs": [],
   "source": []
  },
  {
   "cell_type": "code",
   "execution_count": null,
   "metadata": {},
   "outputs": [],
   "source": []
  },
  {
   "cell_type": "code",
   "execution_count": 22,
   "metadata": {},
   "outputs": [
    {
     "name": "stdout",
     "output_type": "stream",
     "text": [
      "+----------------------------------+-----+\n",
      "|emailaddresstext                  |count|\n",
      "+----------------------------------+-----+\n",
      "|ip.lhlaw@live.com                 |99   |\n",
      "|rich@newmanlawlv.com              |99   |\n",
      "|uspto@lhlaw.com                   |99   |\n",
      "|uspto@zellerip.com                |99   |\n",
      "|rdc@chabotlaw.com                 |99   |\n",
      "|ARRIS.docketing@commscope.com     |99   |\n",
      "|vladimir.skliba@morganlewis.com   |99   |\n",
      "|pat@rogowskilaw.com               |99   |\n",
      "|patents@newmanlawlv.com           |99   |\n",
      "|PATENT@BOSELAW.COM                |99   |\n",
      "|baker@gdllawfirm.com              |99   |\n",
      "|patents@sri.com                   |99   |\n",
      "|docketing@houstonllp.com          |99   |\n",
      "|jlongmuir@adelphia.net            |99   |\n",
      "|jlongmuir@roadrunner.com          |99   |\n",
      "|kyle@zellerip.com                 |99   |\n",
      "|ip.lhlaw@gmail.com                |99   |\n",
      "|ipdocketing@ipllfirm.com          |99   |\n",
      "|patent@insulet.com                |98   |\n",
      "|dprincipe@phillipslytle.com       |98   |\n",
      "|jwchilders@casimirjones.com       |98   |\n",
      "|uspto@beemlaw.com                 |98   |\n",
      "|SFIPDOCKETING@MORGANLEWIS.COM     |98   |\n",
      "|info@brainsparkassociates.com     |98   |\n",
      "|USPTOmail@MiddReut.com            |98   |\n",
      "|scinovallc@gmail.com              |98   |\n",
      "|adc_alameda_ip_dept@abbott.com    |98   |\n",
      "|USPTOmail@Middletonlaw.com        |98   |\n",
      "|york@ls3ip.com                    |98   |\n",
      "|patentdocketing@branchpartners.law|98   |\n",
      "|msartori@goodwinlaw.com           |98   |\n",
      "|DOCKETING@RANKINHILL.COM          |98   |\n",
      "|ipdocketing@phillipslytle.com     |98   |\n",
      "+----------------------------------+-----+\n",
      "only showing top 33 rows\n",
      "\n"
     ]
    }
   ],
   "source": [
    "df_email_only_groupby.filter(col(\"count\") < 100).show(n=33,truncate=False) "
   ]
  },
  {
   "cell_type": "code",
   "execution_count": 23,
   "metadata": {},
   "outputs": [
    {
     "name": "stdout",
     "output_type": "stream",
     "text": [
      "+-----------------------------+-----+\n",
      "|emailaddresstext             |count|\n",
      "+-----------------------------+-----+\n",
      "|ptoactions@yahoo.com         |5686 |\n",
      "|wangxuzhuo@yahoo.com         |884  |\n",
      "|crossleypatentlaw@yahoo.com  |771  |\n",
      "|markacrossley@yahoo.com      |771  |\n",
      "|cgolaw@yahoo.com             |668  |\n",
      "|steven_earl_shapiro@yahoo.com|316  |\n",
      "|abbeyroad1126@yahoo.com      |178  |\n",
      "|lyman.moulton@yahoo.com      |177  |\n",
      "|emotion0002@yahoo.com        |165  |\n",
      "|thomasinelectric@yahoo.com   |154  |\n",
      "|frischknechtp@yahoo.com      |151  |\n",
      "|wong.willy@yahoo.com         |142  |\n",
      "|xoxoab@yahoo.com             |95   |\n",
      "|cbmpatent@yahoo.com          |95   |\n",
      "|reddyd55@yahoo.com           |91   |\n",
      "|valerie365@yahoo.com         |87   |\n",
      "|tmdjoseph@yahoo.com          |83   |\n",
      "|mgibb@yahoo.com              |79   |\n",
      "|sarahrhoades@yahoo.com       |77   |\n",
      "|phil_virga@yahoo.com         |75   |\n",
      "|saritoc@yahoo.com            |70   |\n",
      "|theodorebaker@yahoo.com      |69   |\n",
      "|p_a_su@yahoo.com             |69   |\n",
      "|patentblog@yahoo.co.jp       |69   |\n",
      "|greenfieldpatents@yahoo.com  |62   |\n",
      "|sealsrosesandstars@yahoo.com |61   |\n",
      "|jultenn6@yahoo.com           |61   |\n",
      "|bielenlt@yahoo.com           |61   |\n",
      "|iplawyerdc@yahoo.com         |54   |\n",
      "|levdoctor@yahoo.com          |53   |\n",
      "|inpdq@yahoo.com              |51   |\n",
      "|willhunziker@yahoo.com       |49   |\n",
      "|brettas39@yahoo.com          |47   |\n",
      "+-----------------------------+-----+\n",
      "only showing top 33 rows\n",
      "\n"
     ]
    }
   ],
   "source": [
    "df_email_only_groupby.filter(col(\"emailaddresstext\").contains(\"@yahoo\")).show(n=33,truncate=False)"
   ]
  },
  {
   "cell_type": "markdown",
   "metadata": {},
   "source": [
    "<h4> Matching up the emails with the titles"
   ]
  },
  {
   "cell_type": "code",
   "execution_count": 24,
   "metadata": {},
   "outputs": [
    {
     "name": "stdout",
     "output_type": "stream",
     "text": [
      "+----------------------------+---------------------+-----+------------+-------------------------------------------+\n",
      "|emailaddresstext            |applicationnumbertext|count|title_length|inventiontitle                             |\n",
      "+----------------------------+---------------------+-----+------------+-------------------------------------------+\n",
      "|scott@bigskycomposites.com  |29445770             |5    |16          |BUNG/TOTE WRENCH                           |\n",
      "|info@24ipusa.com            |29720318             |3    |24          |Roofing Material Display                   |\n",
      "|info@24ipusa.com            |29246065             |3    |10          |SEAT COVER                                 |\n",
      "|ipdocket@thompsoncoburn.com |29172966             |3    |4           |DESK                                       |\n",
      "|devolpatents@gmail.com      |29509916             |3    |37          |MOTORCYCLE SUSPENSION LIMITING SYSTEM      |\n",
      "|ipdocket@thompsoncoburn.com |29216388             |3    |23          |Peaked lotion pump head                    |\n",
      "|ginnie.huangting@outlook.com|29636727             |3    |10          |Quadcopter                                 |\n",
      "|abathanroger@gmail.com      |63070719             |3    |10          |FlexEzScan                                 |\n",
      "|info@24ipusa.com            |29619576             |3    |33          |Robotic Surgical System Handpiece          |\n",
      "|info@24ipusa.com            |29691968             |3    |27          |CHILD-PROOF METAL CONTAINER                |\n",
      "|info@24ipusa.com            |29320160             |3    |7           |Speaker                                    |\n",
      "|info@24ipusa.com            |29691972             |3    |33          |ROUND CHILD-PROOF METAL CONTAINER          |\n",
      "|Vicvilla46@gmail.com        |63050830             |3    |43          |Composite Negative potential battery system|\n",
      "+----------------------------+---------------------+-----+------------+-------------------------------------------+\n",
      "only showing top 13 rows\n",
      "\n"
     ]
    }
   ],
   "source": [
    "df_all = df_email_groupby.join(df_titles_2, on='applicationnumbertext', how='inner')\n",
    "df_all.select(\"emailaddresstext\",\"applicationnumbertext\",\"count\",\"title_length\",\"inventiontitle\").sort(desc(\"count\")).show(n=13,truncate=False)"
   ]
  },
  {
   "cell_type": "markdown",
   "metadata": {},
   "source": [
    "<H4> Looking at one email address - jlonmur@roadrunner.com"
   ]
  },
  {
   "cell_type": "code",
   "execution_count": 25,
   "metadata": {},
   "outputs": [
    {
     "name": "stdout",
     "output_type": "stream",
     "text": [
      "+---------------------------+------------+----------------------------------------------------------------------+\n",
      "|emailaddresstext           |title_length|inventiontitle                                                        |\n",
      "+---------------------------+------------+----------------------------------------------------------------------+\n",
      "|tfili@roadrunner.com       |32          |Pallet Rack Slide By Door System                                      |\n",
      "|szell@roadrunner.com       |27          |Decorative animal tail seat                                           |\n",
      "|augustinj@roadrunner.com   |22          |Huggabooh SnuggleBuddy                                                |\n",
      "|buddydoyle@roadrunner.com  |36          |Kayak condos modular storage systems                                  |\n",
      "|jlongmuir@roadrunner.com   |19          |SOLDERING APPARATUS                                                   |\n",
      "|donerickson@roadrunner.com |22          |Butt refuse receptacle                                                |\n",
      "|loyalhanson@roadrunner.com |70          |COMBINATION 5/8-INCH-SPARK-PLUG-SOCKET AND 5/8-INCH-BOX HOT ROD WRENCH|\n",
      "|szell@roadrunner.com       |27          |Decorative animal tail seat                                           |\n",
      "|LoyalHanson@roadrunner.com |33          |Extension pole female repair tool                                     |\n",
      "|Steamdolphin@roadrunner.com|22          |Bathroom utility shelf                                                |\n",
      "|loyalhanson@roadrunner.com |23          |Decorative garden stone                                               |\n",
      "|LoyalHanson@roadrunner.com |18          |CARPET SEAM WEIGHT                                                    |\n",
      "|tgosika@roadrunner.com     |36          |Legal pitfalls of reporting bullying                                  |\n",
      "|jlongmuir@roadrunner.com   |64          |Accessory Mount for Vehicle Heating and Air Conditioning Systems      |\n",
      "|jlongmuir@roadrunner.com   |62          |Control Panel for Vehicle Heating and Air Conditioning Systems        |\n",
      "|jlongmuir@roadrunner.com   |17          |Hair Styling Tool                                                     |\n",
      "|Steamdolphin@roadrunner.com|14          |BACK SCRATCHER                                                        |\n",
      "|paris555@roadrunner.com    |15          |Shovel Arm Rest                                                       |\n",
      "|jlongmuir@roadrunner.com   |10          |Phone Case                                                            |\n",
      "|jlongmuir@roadrunner.com   |9           |Torch Tip                                                             |\n",
      "|bgladysz@roadrunner.com    |7           |Unknown                                                               |\n",
      "|jlongmuir@roadrunner.com   |17          |Hair Styling Tool                                                     |\n",
      "|jlongmuir@roadrunner.com   |9           |Lampshade                                                             |\n",
      "|loyalhanson@roadrunner.com |20          |SUBMETERING  FITTING                                                  |\n",
      "|loyalhanson@roadrunner.com |24          |Ergonomic Computer Mouse                                              |\n",
      "+---------------------------+------------+----------------------------------------------------------------------+\n",
      "\n"
     ]
    }
   ],
   "source": [
    "df_all.select('emailaddresstext','title_length','inventiontitle').filter(col(\"emailaddresstext\").contains(\"@roadrunner.com\")).show(n=33,truncate=False)"
   ]
  },
  {
   "cell_type": "markdown",
   "metadata": {},
   "source": [
    "<h4> Looking at \"jlongmuir@roadrunner.com\" data"
   ]
  },
  {
   "cell_type": "code",
   "execution_count": 26,
   "metadata": {},
   "outputs": [
    {
     "name": "stdout",
     "output_type": "stream",
     "text": [
      "+------------------------+------------+----------------------------------------------------------------+\n",
      "|emailaddresstext        |title_length|inventiontitle                                                  |\n",
      "+------------------------+------------+----------------------------------------------------------------+\n",
      "|jlongmuir@roadrunner.com|19          |SOLDERING APPARATUS                                             |\n",
      "|jlongmuir@roadrunner.com|64          |Accessory Mount for Vehicle Heating and Air Conditioning Systems|\n",
      "|jlongmuir@roadrunner.com|62          |Control Panel for Vehicle Heating and Air Conditioning Systems  |\n",
      "|jlongmuir@roadrunner.com|17          |Hair Styling Tool                                               |\n",
      "|jlongmuir@roadrunner.com|10          |Phone Case                                                      |\n",
      "|jlongmuir@roadrunner.com|9           |Torch Tip                                                       |\n",
      "|jlongmuir@roadrunner.com|17          |Hair Styling Tool                                               |\n",
      "|jlongmuir@roadrunner.com|9           |Lampshade                                                       |\n",
      "+------------------------+------------+----------------------------------------------------------------+\n",
      "\n"
     ]
    }
   ],
   "source": [
    "df_jlongmuir=df_all.select('emailaddresstext','title_length','inventiontitle').filter(col(\"emailaddresstext\").contains(\"jlongmuir@roadrunner.com\"))\n",
    "df_jlongmuir.show(n=33,truncate=False)"
   ]
  },
  {
   "cell_type": "code",
   "execution_count": 27,
   "metadata": {},
   "outputs": [
    {
     "ename": "NameError",
     "evalue": "name 'list_titles' is not defined",
     "output_type": "error",
     "traceback": [
      "\u001b[0;31m---------------------------------------------------------------------------\u001b[0m",
      "\u001b[0;31mNameError\u001b[0m                                 Traceback (most recent call last)",
      "\u001b[0;32m<ipython-input-27-9d3ba296c55c>\u001b[0m in \u001b[0;36m<module>\u001b[0;34m\u001b[0m\n\u001b[1;32m      1\u001b[0m \u001b[0;31m#titles1=df_jlongmuir.select(\"inventiontitle\").toPandas()['inventiontitle']\u001b[0m\u001b[0;34m\u001b[0m\u001b[0;34m\u001b[0m\u001b[0;34m\u001b[0m\u001b[0m\n\u001b[1;32m      2\u001b[0m \u001b[0;31m#list_titles=list(titles1)\u001b[0m\u001b[0;34m\u001b[0m\u001b[0;34m\u001b[0m\u001b[0;34m\u001b[0m\u001b[0m\n\u001b[0;32m----> 3\u001b[0;31m \u001b[0mprint\u001b[0m\u001b[0;34m(\u001b[0m\u001b[0mlist_titles\u001b[0m\u001b[0;34m[\u001b[0m\u001b[0;36m0\u001b[0m\u001b[0;34m:\u001b[0m\u001b[0;36m4\u001b[0m\u001b[0;34m]\u001b[0m\u001b[0;34m)\u001b[0m\u001b[0;34m\u001b[0m\u001b[0;34m\u001b[0m\u001b[0m\n\u001b[0m",
      "\u001b[0;31mNameError\u001b[0m: name 'list_titles' is not defined"
     ]
    }
   ],
   "source": [
    "#titles1=df_jlongmuir.select(\"inventiontitle\").toPandas()['inventiontitle']\n",
    "#list_titles=list(titles1)\n",
    "print(list_titles[0:4])"
   ]
  },
  {
   "cell_type": "markdown",
   "metadata": {},
   "source": [
    "<h4> Looking at \"wong.willy@yahoo.com\" applications"
   ]
  },
  {
   "cell_type": "code",
   "execution_count": 28,
   "metadata": {},
   "outputs": [
    {
     "name": "stdout",
     "output_type": "stream",
     "text": [
      "+--------------------+------------+--------------------------------------------------+\n",
      "|emailaddresstext    |title_length|inventiontitle                                    |\n",
      "+--------------------+------------+--------------------------------------------------+\n",
      "|wong.willy@yahoo.com|24          |Mobile Phone Adapter Set                          |\n",
      "|wong.willy@yahoo.com|26          |SQUARE SHAPE CEILING LIGHT                        |\n",
      "|wong.willy@yahoo.com|11          |Wifi Camera                                       |\n",
      "|wong.willy@yahoo.com|10          |TENT STOVE                                        |\n",
      "|wong.willy@yahoo.com|17          |Hair Straightener                                 |\n",
      "|wong.willy@yahoo.com|9           |Heel Grip                                         |\n",
      "|wong.willy@yahoo.com|21          |Car-Shaped Bubble Toy                             |\n",
      "|wong.willy@yahoo.com|50          |Square Shape Ceiling Light with Central Flat Panel|\n",
      "|wong.willy@yahoo.com|23          |FORK OR SIMILAR ARTICLE                           |\n",
      "|wong.willy@yahoo.com|10          |Bubble Toy                                        |\n",
      "+--------------------+------------+--------------------------------------------------+\n",
      "\n"
     ]
    }
   ],
   "source": [
    "\n",
    "df_wongwilly=df_all.select('emailaddresstext','title_length','inventiontitle').filter(col(\"emailaddresstext\").contains(\"wong.willy@yahoo.com\"))\n",
    "df_wongwilly.show(n=33,truncate=False)"
   ]
  },
  {
   "cell_type": "markdown",
   "metadata": {},
   "source": [
    "<h4>  Need to get this package, sparkNLP"
   ]
  },
  {
   "cell_type": "code",
   "execution_count": 29,
   "metadata": {},
   "outputs": [
    {
     "ename": "ModuleNotFoundError",
     "evalue": "No module named 'sentence_transformers'",
     "output_type": "error",
     "traceback": [
      "\u001b[0;31m---------------------------------------------------------------------------\u001b[0m",
      "\u001b[0;31mModuleNotFoundError\u001b[0m                       Traceback (most recent call last)",
      "\u001b[0;32m<ipython-input-29-dbcd88385343>\u001b[0m in \u001b[0;36m<module>\u001b[0;34m\u001b[0m\n\u001b[0;32m----> 1\u001b[0;31m \u001b[0;32mfrom\u001b[0m \u001b[0msentence_transformers\u001b[0m \u001b[0;32mimport\u001b[0m \u001b[0mSentenceTransformer\u001b[0m\u001b[0;34m\u001b[0m\u001b[0;34m\u001b[0m\u001b[0m\n\u001b[0m",
      "\u001b[0;31mModuleNotFoundError\u001b[0m: No module named 'sentence_transformers'"
     ]
    }
   ],
   "source": [
    "from sentence_transformers import SentenceTransformer"
   ]
  },
  {
   "cell_type": "markdown",
   "metadata": {},
   "source": [
    "<h4> Detecting the language of the Invention titles"
   ]
  },
  {
   "cell_type": "code",
   "execution_count": null,
   "metadata": {},
   "outputs": [],
   "source": [
    "!pip install spacy-langdetect"
   ]
  },
  {
   "cell_type": "code",
   "execution_count": null,
   "metadata": {},
   "outputs": [],
   "source": [
    "import spacy\n",
    "from spacy_langdetect import LanguageDetector"
   ]
  },
  {
   "cell_type": "code",
   "execution_count": null,
   "metadata": {},
   "outputs": [],
   "source": [
    "!python -m venv .env\n",
    "!source .env/bin/activate\n",
    "!pip install -U spacy\n",
    "!python -m spacy download en_core_web_lg"
   ]
  },
  {
   "cell_type": "code",
   "execution_count": null,
   "metadata": {},
   "outputs": [],
   "source": [
    "!pip install https://github.com/explosion/spacy-models/releases/download/en_core_news_lg-3.2.0/en_core_news_lg-3.2.0-py3-none-any.whl\n"
   ]
  },
  {
   "cell_type": "code",
   "execution_count": null,
   "metadata": {
    "scrolled": true
   },
   "outputs": [],
   "source": [
    "nlp = spacy.load('en_core_web_lg')  # 1\n",
    "nlp.add_pipe(LanguageDetector(), name='language_detector', last=True)\n",
    "text_content = \"Er lebt mit seinen Eltern und seiner Schwester in Berlin.\"\n",
    "doc = nlp(text_content) \n",
    "detect_language = doc._.language \n",
    "print(detect_language)"
   ]
  },
  {
   "cell_type": "code",
   "execution_count": null,
   "metadata": {},
   "outputs": [],
   "source": [
    "import spark-nlp"
   ]
  },
  {
   "cell_type": "markdown",
   "metadata": {},
   "source": [
    "<h3> Tokenize the inventiontitles"
   ]
  },
  {
   "cell_type": "code",
   "execution_count": null,
   "metadata": {},
   "outputs": [],
   "source": [
    "from pyspark.ml.feature import Tokenizer, Word2Vec\n",
    "df = df_jlongmuir.select(['emailaddresstext','inventiontitle'])\n",
    "newDF = df.distinct()\n",
    "print(newDF.count())\n",
    "newDF = newDF.withColumnRenamed('inventiontitle','text')\n",
    "tokenizer = Tokenizer(outputCol=\"words\")\n",
    "tokenizer.setInputCol(\"text\")\n",
    "\n",
    "df_tokenizer = tokenizer.transform(newDF)\n",
    "#df_tokenizer=df_tokenizer.withColumn('title_length',f.length('text'))\n",
    "df_tokenizer.select(\"emailaddresstext\",\"words\").show(n=20,truncate=False)"
   ]
  },
  {
   "cell_type": "markdown",
   "metadata": {},
   "source": [
    "<h4> Getting the needed packages for cosine_similarity"
   ]
  },
  {
   "cell_type": "code",
   "execution_count": null,
   "metadata": {},
   "outputs": [],
   "source": [
    "from collections import Counter\n",
    "from sklearn.metrics.pairwise import cosine_similarity"
   ]
  },
  {
   "cell_type": "code",
   "execution_count": null,
   "metadata": {},
   "outputs": [],
   "source": [
    "a_file = df_tokenizer.select(\"words\")\n",
    "b_file = []\n",
    "a_file.show(truncate=False)"
   ]
  },
  {
   "cell_type": "markdown",
   "metadata": {},
   "source": [
    "<h4> Vectorizing the Invention titles with word2vec"
   ]
  },
  {
   "cell_type": "code",
   "execution_count": null,
   "metadata": {},
   "outputs": [],
   "source": [
    "word2Vec = Word2Vec(vectorSize=500, seed=43, inputCol='words',outputCol=\"model\")\n",
    "word2Vec.setMaxIter(12)\n",
    "print(word2Vec.getMaxIter())\n",
    "#word2Vec.clear(word2Vec.maxIter)\n",
    "doc = df_tokenizer.select('words')\n",
    "#doc = df_text.select('words')\n",
    "model = word2Vec.fit(doc)\n",
    "#model.getMinCount()\n",
    "model.getVectors().show(truncate=False,vertical=True)"
   ]
  },
  {
   "cell_type": "code",
   "execution_count": null,
   "metadata": {},
   "outputs": [],
   "source": [
    "df_test = model.getVectors().select('vector')\n",
    "print(df_test.count())\n",
    "df_test.show(n=4)"
   ]
  },
  {
   "cell_type": "code",
   "execution_count": null,
   "metadata": {},
   "outputs": [],
   "source": [
    "titles1=df_test.select(\"vector\").toPandas()['vector']\n",
    "print(titles1.shape)\n",
    "list_titles=list(titles1)\n",
    "print(list_titles[0:4])"
   ]
  },
  {
   "cell_type": "code",
   "execution_count": null,
   "metadata": {},
   "outputs": [],
   "source": [
    "from sklearn.metrics.pairwise import cosine_similarity\n"
   ]
  },
  {
   "cell_type": "code",
   "execution_count": null,
   "metadata": {},
   "outputs": [],
   "source": [
    "print(len(list_titles))\n",
    "cosine_similarity([list_titles[0]],list_titles[1:])"
   ]
  },
  {
   "cell_type": "code",
   "execution_count": null,
   "metadata": {
    "scrolled": true
   },
   "outputs": [],
   "source": [
    "#invention_title = a_file.toPandas()\n",
    "a_file.show(n=10,truncate=False)"
   ]
  },
  {
   "cell_type": "markdown",
   "metadata": {},
   "source": [
    "<h4> Another example - wong.willy@yahoo.com"
   ]
  },
  {
   "cell_type": "code",
   "execution_count": null,
   "metadata": {},
   "outputs": [],
   "source": [
    "from pyspark.ml.feature import Tokenizer, Word2Vec\n",
    "df = df_wongwilly.select(['emailaddresstext','inventiontitle'])\n",
    "newDF = df.distinct()\n",
    "print(newDF.count())\n",
    "newDF = newDF.withColumnRenamed('inventiontitle','text')\n",
    "tokenizer = Tokenizer(outputCol=\"words\")\n",
    "tokenizer.setInputCol(\"text\")\n",
    "\n",
    "df_tokenizer = tokenizer.transform(newDF)\n",
    "#df_tokenizer=df_tokenizer.withColumn('title_length',f.length('text'))\n",
    "df_tokenizer.select(\"emailaddresstext\",\"words\").show(n=20,truncate=False)\n",
    "\n",
    "##Vectorize the invention titles\n",
    "word2Vec = Word2Vec(vectorSize=500, seed=43, inputCol='words',outputCol=\"model\")\n",
    "word2Vec.setMaxIter(12)\n",
    "print(word2Vec.getMaxIter())\n",
    "#word2Vec.clear(word2Vec.maxIter)\n",
    "doc = df_tokenizer.select('words')\n",
    "#doc = df_text.select('words')\n",
    "model = word2Vec.fit(doc)\n",
    "#model.getMinCount()\n",
    "model.getVectors().show(truncate=False,vertical=True)\n",
    "## Getting the vector column alone\n",
    "df_test = model.getVectors().select('vector')\n",
    "print(df_test.count())\n",
    "df_test.show(n=4)\n",
    "\n",
    "titles1=df_test.select(\"vector\").toPandas()['vector']\n",
    "print(titles1.shape)\n",
    "list_titles=list(titles1)\n",
    "print(list_titles[0:4])\n",
    "\n",
    "print(len(list_titles))\n",
    "cosine_similarity([list_titles[0]],list_titles[1:])"
   ]
  },
  {
   "cell_type": "markdown",
   "metadata": {},
   "source": [
    "\n",
    "<h4> Looking at the effectivefilling data as another fraud signal"
   ]
  },
  {
   "cell_type": "code",
   "execution_count": null,
   "metadata": {},
   "outputs": [],
   "source": [
    "df_pd = df_titles.toPandas()\n",
    "df_pd.to_csv(\"/data/jupyter/Inventiontitles_2.csv\",header=0)"
   ]
  },
  {
   "cell_type": "code",
   "execution_count": null,
   "metadata": {},
   "outputs": [],
   "source": [
    "df_pd.head(n=10)"
   ]
  },
  {
   "cell_type": "code",
   "execution_count": null,
   "metadata": {},
   "outputs": [],
   "source": [
    "df_titles.count()\n",
    "df_titles.write.mode('overwrite').parquet(\"/data/jupyter/Inventiontitles.parquet\")\n"
   ]
  },
  {
   "cell_type": "code",
   "execution_count": null,
   "metadata": {},
   "outputs": [],
   "source": [
    "from pyspark.sql.functions import desc, col\n",
    "df_1a = spark.sql(\"Select * from patent_data.opsg_email_address\")\n",
    "df_1 = df_1a.filter(col(\"emailaddresstext\").isNotNull())\n",
    "print(f'{df_1.count():,}')\n",
    "print(df_1.printSchema())\n",
    "df_1.groupby(\"emailaddresstext\",\"applicationnumbertext\").count().sort(desc(\"count\")).show()"
   ]
  },
  {
   "cell_type": "code",
   "execution_count": null,
   "metadata": {},
   "outputs": [],
   "source": [
    "##Matching emails with applications via the applicationnumbetext \n",
    "df_all = df_1.join(df_titles, on=['applicationnumbertext'] , how = 'left')\n",
    "\n",
    "#print('========================')\n",
    "print(f'{df_all.count():,}')\n",
    "#print('====================')\n",
    "df_all.show(n=5,truncate=False, vertical=True)"
   ]
  },
  {
   "cell_type": "code",
   "execution_count": null,
   "metadata": {},
   "outputs": [],
   "source": [
    "##Getting the means and standard deviation of the character count of the title\n",
    "df_spark1 = df_tokenizer.select('text','title_length')\n",
    "df_spark1 = df_spark1.dropDuplicates(['text','title_length'])\n",
    "print(f'{df_spark1.count():,}')\n",
    "df_pd_1 = df_spark1.toPandas()\n",
    "print(df_pd_1.title_length.mean())\n",
    "print(df_pd_1.title_length.std())\n",
    "df_pd_1.head()"
   ]
  },
  {
   "cell_type": "code",
   "execution_count": null,
   "metadata": {},
   "outputs": [],
   "source": [
    "import pandas as pd\n",
    "import matplotlib.pyplot as plt\n",
    "import matplotlib as mpl\n",
    "print(df_pd_1.shape)\n",
    "print(df_pd_1.tail(n=10))\n",
    "plt.title('Title length \\n' 'n= 534,867 \\n' 'mean = 43.78, std=33.78')\n",
    "ax = plt.hist(df_pd_1['title_length'])\n",
    "#ax.yaxis.set_major_formatter(mpl.ticker.StrMethodformatter('{x:,.0f}'))\n",
    "#ax.set_yticklabels(['{:,}'.format(int(x)) for x in ax.get_yticks().tolist()])\n",
    "plt.show()"
   ]
  },
  {
   "cell_type": "code",
   "execution_count": null,
   "metadata": {},
   "outputs": [],
   "source": [
    "import pyspark.sql.functions as f\n",
    "email = \"chriochs@microsoft.com\"\n",
    "df_text = df_tokenizer.filter(col('emailaddresstext')==email)\n",
    "# drop duplicates\n",
    "df_text=df_text.dropDuplicates(['emailaddresstext','text','words'])\n",
    "df_text=df_text.withColumn('title_length',f.length('text'))\n",
    "print(df_text.count())\n",
    "df_text.show(n=7,truncate=False)"
   ]
  },
  {
   "cell_type": "markdown",
   "metadata": {},
   "source": [
    "<h3> applying word2vec to the tokenized titles"
   ]
  },
  {
   "cell_type": "code",
   "execution_count": null,
   "metadata": {},
   "outputs": [],
   "source": [
    "pd_text = df_text.toPandas()\n",
    "pd_text.head()"
   ]
  },
  {
   "cell_type": "code",
   "execution_count": null,
   "metadata": {},
   "outputs": [],
   "source": [
    "!pip install spacy"
   ]
  },
  {
   "cell_type": "code",
   "execution_count": null,
   "metadata": {},
   "outputs": [],
   "source": [
    "#!python -m spacy download en_core_web_lg\n",
    "#!pip install spacy\n",
    "import spacy\n",
    "help(spacy.load)"
   ]
  },
  {
   "cell_type": "code",
   "execution_count": null,
   "metadata": {},
   "outputs": [],
   "source": []
  },
  {
   "cell_type": "code",
   "execution_count": null,
   "metadata": {},
   "outputs": [],
   "source": [
    "import tensorflow_hub as hub\n",
    "\n",
    "embed = hub.load(\"https://tfhub.dev/google/universal-sentence-encoder/4\")\n",
    "embeddings = embed([\n",
    "    \"the person wear red T-shirt\",\n",
    "    \"this person is walking\",\n",
    "    \"the boy wear red T-shirt\"\n",
    "    ])\n",
    "\n",
    "print(embeddings)"
   ]
  },
  {
   "cell_type": "code",
   "execution_count": null,
   "metadata": {},
   "outputs": [],
   "source": [
    "import spacy\n",
    "nlp = spacy.load(\"en_core_web_lg\")\n",
    "#nlp = spacy.load(\"en_core_web_md\")\n",
    "\n",
    "\n",
    "doc1 = nlp(pd_text.iloc[0,0])\n",
    "doc2 = nlp(pd_text.iloc[0,1])\n",
    "doc3 = nlp(pd_text.iloc[0,2])\n",
    "\n",
    "\n",
    "print(doc1.similarity(doc2)) \n",
    "print(doc1.similarity(doc3))\n",
    "print(doc2.similarity(doc3)) "
   ]
  },
  {
   "cell_type": "code",
   "execution_count": null,
   "metadata": {},
   "outputs": [],
   "source": [
    "!pip install networkx\n",
    "import networkx as nx\n",
    "\n",
    "import matplotlib.pyplot as plt"
   ]
  },
  {
   "cell_type": "code",
   "execution_count": null,
   "metadata": {},
   "outputs": [],
   "source": [
    "import np\n",
    "nwords = 100\n",
    "indexes = np.argpartition(dist,-(nwords+1))[-(nwords+1):] \n",
    "di = []\n",
    "for counter in range(nwords_1):\n",
    "    di.append((words[indexes[counter]],dist[indexes[counter]], labels[indexes[counter]]))\n",
    "print(di[2])    "
   ]
  },
  {
   "cell_type": "code",
   "execution_count": null,
   "metadata": {},
   "outputs": [],
   "source": [
    "df_email_time=df_all.groupby('emailaddresstext','effectivefilingdate').count().sort(desc(\"count\"))\n",
    "df_pd_email_time = df_email_time.toPandas()\n",
    "\n",
    "import pandas as pd\n",
    "import matplotlib.pyplot as plt\n",
    "\n",
    "df_x = df_pd_email_time[df_pd_email_time['count'] > 3]\n",
    "df_x = df_x[df_x['count'] < 40 ]\n",
    "print(df_x.shape)\n",
    "print(df_x.tail(n=60))\n",
    "plt.hist(df_x['count'])\n",
    "\n"
   ]
  },
  {
   "cell_type": "code",
   "execution_count": null,
   "metadata": {},
   "outputs": [],
   "source": [
    "df_1.groupby(\"emailaddresstext\").count().sort(desc(\"count\")).show(n=50,truncate=False)"
   ]
  },
  {
   "cell_type": "markdown",
   "metadata": {},
   "source": [
    "<h4> Suhee application numbers"
   ]
  },
  {
   "cell_type": "code",
   "execution_count": null,
   "metadata": {},
   "outputs": [],
   "source": [
    "df_2 = spark.sql(\"Select * from patent_data.suhee_applications\")\n",
    "print(f'{df_2.count():,}')\n",
    "print(df_2.printSchema())\n",
    "print(df_2.show())"
   ]
  },
  {
   "cell_type": "code",
   "execution_count": null,
   "metadata": {
    "scrolled": true
   },
   "outputs": [],
   "source": [
    "##Seeing email matches with Suhee park\n",
    "df_3 = df_2.join(df_1 , on=['applicationnumbertext'] , how = 'left').show(n=50,truncate=False)\n"
   ]
  },
  {
   "cell_type": "markdown",
   "metadata": {},
   "source": [
    "<h4> Joining the Suhee data to the application data"
   ]
  },
  {
   "cell_type": "code",
   "execution_count": null,
   "metadata": {},
   "outputs": [],
   "source": [
    "df_4 = df_2.join(df_0, on=['applicationnumbertext'] , how = 'left')\n",
    "print(f'{df_4.count():,}')\n",
    "df_4.show(n=5,truncate=False, vertical=True)"
   ]
  },
  {
   "cell_type": "code",
   "execution_count": null,
   "metadata": {},
   "outputs": [],
   "source": [
    "df_1a = df_1.filter(df_1.emailaddresstext=='info@24ipusa.com')\n",
    "print(f'{df_1a.count():,}')\n",
    "df_1a.show(n=5)"
   ]
  },
  {
   "cell_type": "code",
   "execution_count": null,
   "metadata": {},
   "outputs": [],
   "source": [
    "##Joining the email address info@24ipusa.com by applicationnumbertext to emailaddresstext\n",
    "df_1b = df_1a.join(df_0, on=['applicationnumbertext'] , how = 'left')\n",
    "print(f'{df_1b.count():,}')\n",
    "df_1b.show(n=5,truncate=False,vertical=True)"
   ]
  },
  {
   "cell_type": "code",
   "execution_count": null,
   "metadata": {},
   "outputs": [],
   "source": [
    "email = \"chriochs@microsoft.com\"\n",
    "df_1aa = df_1.filter(df_1.emailaddresstext==email)\n",
    "df_1ab = df_1aa.join(df_0, on=['applicationnumbertext'] , how = 'left')\n",
    "print(f'{df_1ab.count():,}')\n",
    "df_1ab.select('emailaddresstext','applicationnumbertext','effectivefilingdate','inventiontitle','applicationstatusdescriptiontext').sort(desc(\"effectivefilingdate\")).show(n=130,truncate=False, vertical=True)\n",
    "#df_1ab.show(n=15,truncate=False, vertical=True)"
   ]
  },
  {
   "cell_type": "code",
   "execution_count": null,
   "metadata": {},
   "outputs": [],
   "source": [
    "##Another join of application data to emailaddresstext\n",
    "\n",
    "df_1aa = df_1.filter(df_1.emailaddresstext=='sughrue@sughrue.com')\n",
    "df_1ab = df_1aa.join(df_0, on=['applicationnumbertext'] , how = 'left')\n",
    "print(f'{df_1ab.count():,}')\n",
    "df_1ab.show(n=15,truncate=False, vertical=True)"
   ]
  },
  {
   "cell_type": "code",
   "execution_count": null,
   "metadata": {},
   "outputs": [],
   "source": [
    "##Another join of application data to emailaddresstext\n",
    "\n",
    "df_1ac = df_1.filter(df_1.emailaddresstext=='USPTO@sughrue.com')\n",
    "df_1ad = df_1ac.join(df_0, on=['applicationnumbertext'] , how = 'left')\n",
    "print(f'{df_1ad.count():,}')\n",
    "df_1ad.show(n=15,truncate=False, vertical=True)"
   ]
  },
  {
   "cell_type": "markdown",
   "metadata": {},
   "source": [
    "<h3> Another email address to look at"
   ]
  },
  {
   "cell_type": "code",
   "execution_count": null,
   "metadata": {},
   "outputs": [],
   "source": [
    "email='jarmstrong@oliff.com' \n",
    "\n",
    "df_1ac = df_1.filter(df_1.emailaddresstext==email)\n",
    "df_1ad = df_1ac.join(df_0, on=['applicationnumbertext'] , how = 'left')\n",
    "print(f'{df_1ad.count():,}')\n",
    "df_1ad.show(n=15,truncate=False, vertical=True)"
   ]
  },
  {
   "cell_type": "markdown",
   "metadata": {},
   "source": [
    "<h4> Looking at the Abandoned records"
   ]
  },
  {
   "cell_type": "code",
   "execution_count": null,
   "metadata": {},
   "outputs": [],
   "source": [
    "from pyspark.sql.functions import lit, col"
   ]
  },
  {
   "cell_type": "code",
   "execution_count": null,
   "metadata": {},
   "outputs": [],
   "source": [
    "df_aband=df_0.filter(col(\"applicationstatusdescriptiontext\").like(\"%Abandoned%\"))\n",
    "print('Record counts = ', f'{df_aband.count():,}')\n",
    "df_aband.groupby(\"applicationnumbertext\").count().sort(desc(\"count\")).show()"
   ]
  },
  {
   "cell_type": "markdown",
   "metadata": {},
   "source": [
    "<h4> Merging the abandoned data with email by applicationnumbertext"
   ]
  },
  {
   "cell_type": "code",
   "execution_count": null,
   "metadata": {},
   "outputs": [],
   "source": [
    "df_1ad = df_aband.join(df_1, on=['applicationnumbertext'] , how = 'left')\n",
    "print(f'{df_1ad.count():,}')\n",
    "df_1ad.show(n=15,truncate=False, vertical=True)"
   ]
  },
  {
   "cell_type": "markdown",
   "metadata": {},
   "source": [
    "<h4> Getting rid of the null(s) emails"
   ]
  },
  {
   "cell_type": "code",
   "execution_count": null,
   "metadata": {},
   "outputs": [],
   "source": [
    "df_nonulls_email = df_1ad.filter(col(\"emailaddresstext\").isNotNull())\n",
    "print(f'{df_nonulls_email.count():,}')\n",
    "df_nonulls_email.show(n=15,truncate=False, vertical=True)"
   ]
  },
  {
   "cell_type": "markdown",
   "metadata": {},
   "source": [
    "<h3> Counts of email address "
   ]
  },
  {
   "cell_type": "code",
   "execution_count": null,
   "metadata": {},
   "outputs": [],
   "source": [
    "df_nonulls_email.groupby(\"emailaddresstext\").count().sort(desc(\"count\")).show(n=150, truncate=False)"
   ]
  },
  {
   "cell_type": "markdown",
   "metadata": {},
   "source": [
    "<h4> Finding emails and application data with questionable data"
   ]
  },
  {
   "cell_type": "code",
   "execution_count": null,
   "metadata": {},
   "outputs": [],
   "source": [
    "email='%sinorica@%'\n",
    "df_1ac=df_1.filter(col(\"emailaddresstext\").like(email))\n",
    "\n",
    "df_1ad = df_1ac.join(df_0, on=['applicationnumbertext'] , how = 'left')\n",
    "print(f'{df_1ad.count():,}')\n",
    "df_1ad.show(n=15,truncate=False, vertical=True)"
   ]
  },
  {
   "cell_type": "markdown",
   "metadata": {},
   "source": [
    "<h4> Fraud found"
   ]
  },
  {
   "cell_type": "code",
   "execution_count": null,
   "metadata": {},
   "outputs": [],
   "source": [
    "email='XOXOAB@YAHOO.COM' \n",
    "\n",
    "df_1ac = df_1.filter(df_1.emailaddresstext==email)\n",
    "df_1ad = df_1ac.join(df_0, on=['applicationnumbertext'] , how = 'left')\n",
    "print(f'{df_1ad.count():,}')\n",
    "df_1ad.show(n=15,truncate=False, vertical=True)"
   ]
  },
  {
   "cell_type": "code",
   "execution_count": null,
   "metadata": {},
   "outputs": [],
   "source": [
    "df_1ad.select('emailaddresstext','applicationnumbertext','effectivefilingdate','inventiontitle').sort(desc(\"effectivefilingdate\")).show(n=15,truncate=False, vertical=True)"
   ]
  },
  {
   "cell_type": "code",
   "execution_count": null,
   "metadata": {},
   "outputs": [],
   "source": [
    "email='Stillrolling25@gmail.com' \n",
    "\n",
    "df_1ac = df_1.filter(df_1.emailaddresstext==email)\n",
    "df_1ad = df_1ac.join(df_0, on=['applicationnumbertext'] , how = 'left')\n",
    "print(f'{df_1ad.count():,}')\n",
    "df_1ad.show(n=15,truncate=False, vertical=True)"
   ]
  },
  {
   "cell_type": "code",
   "execution_count": null,
   "metadata": {},
   "outputs": [],
   "source": [
    "df_1ad.select('emailaddresstext','applicationnumbertext','effectivefilingdate','inventiontitle').sort(desc(\"effectivefilingdate\")).show(n=15,truncate=False, vertical=True)"
   ]
  },
  {
   "cell_type": "code",
   "execution_count": null,
   "metadata": {},
   "outputs": [],
   "source": [
    "df_1ad.select('emailaddresstext','effectivefilingdate').sort(desc(\"effectivefilingdate\")).show(n=50,truncate=False)"
   ]
  },
  {
   "cell_type": "code",
   "execution_count": null,
   "metadata": {},
   "outputs": [],
   "source": []
  }
 ],
 "metadata": {
  "kernelspec": {
   "display_name": "Python 3",
   "language": "python",
   "name": "python3"
  },
  "language_info": {
   "codemirror_mode": {
    "name": "ipython",
    "version": 3
   },
   "file_extension": ".py",
   "mimetype": "text/x-python",
   "name": "python",
   "nbconvert_exporter": "python",
   "pygments_lexer": "ipython3",
   "version": "3.7.6"
  }
 },
 "nbformat": 4,
 "nbformat_minor": 4
}
